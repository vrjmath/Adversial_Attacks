{
 "cells": [
  {
   "cell_type": "code",
   "execution_count": 1,
   "id": "ece6341d-af2f-49be-9512-6260890fbf54",
   "metadata": {},
   "outputs": [
    {
     "name": "stderr",
     "output_type": "stream",
     "text": [
      "/opt/anaconda3/envs/adv/lib/python3.10/site-packages/tqdm/auto.py:21: TqdmWarning: IProgress not found. Please update jupyter and ipywidgets. See https://ipywidgets.readthedocs.io/en/stable/user_install.html\n",
      "  from .autonotebook import tqdm as notebook_tqdm\n"
     ]
    }
   ],
   "source": [
    "import torch\n",
    "import numpy as np\n",
    "from deeprobust.graph.data import Dataset\n",
    "from deeprobust.graph.defense import GCN\n",
    "from deeprobust.graph.targeted_attack import Nettack\n",
    "from deeprobust.graph.utils import preprocess, accuracy, sparse_mx_to_torch_sparse_tensor\n"
   ]
  },
  {
   "cell_type": "markdown",
   "id": "d528cdb8-0e1e-466f-a780-5a1fc4bcaf29",
   "metadata": {},
   "source": [
    "### Nettack performs structure on a targeted node such that after training, the target model performs poorly on the target node."
   ]
  },
  {
   "cell_type": "code",
   "execution_count": 12,
   "id": "ad468612-767b-4edc-901d-79a887bf1f1e",
   "metadata": {},
   "outputs": [
    {
     "name": "stdout",
     "output_type": "stream",
     "text": [
      "Loading cora dataset...\n",
      "Selecting 1 largest connected components\n"
     ]
    }
   ],
   "source": [
    "device = torch.device(\"cuda:0\" if torch.cuda.is_available() else \"cpu\")\n",
    "\n",
    "# Load Cora in \"nettack\" setting (ensures proper test split)\n",
    "data = Dataset(root='/tmp/', name='cora', setting='nettack')\n",
    "adj, features, labels = data.adj, data.features, data.labels\n",
    "idx_train, idx_val, idx_test = data.idx_train, data.idx_val, data.idx_test"
   ]
  },
  {
   "cell_type": "code",
   "execution_count": 13,
   "id": "fb0a8c04-c19e-4858-afd0-bf8053bde5e7",
   "metadata": {},
   "outputs": [],
   "source": [
    "# Train surrogate model\n",
    "surrogate = GCN(nfeat=features.shape[1], nclass=labels.max().item() + 1, nhid=16, with_relu=False, device=device)\n",
    "surrogate = surrogate.to(device)\n",
    "surrogate.fit(features, adj, labels, idx_train)"
   ]
  },
  {
   "cell_type": "code",
   "execution_count": 14,
   "id": "15cb45d1-ae55-42a1-a519-ff9868ce2f2f",
   "metadata": {},
   "outputs": [
    {
     "name": "stdout",
     "output_type": "stream",
     "text": [
      "##### Starting attack #####\n",
      "##### Attack only using structure perturbations #####\n",
      "##### Attacking the node directly #####\n",
      "##### Performing 3 perturbations #####\n",
      "##### ...1/3 perturbations ... #####\n",
      "##### ...2/3 perturbations ... #####\n",
      "##### ...3/3 perturbations ... #####\n"
     ]
    }
   ],
   "source": [
    "# Pick a target test node (must be correctly classified by the GCN)\n",
    "target_node = idx_test[0].item()\n",
    "\n",
    "# Preprocess inputs for Nettack\n",
    "adj, features, labels = preprocess(adj, features, labels, preprocess_adj=False)\n",
    "\n",
    "# Instantiate Nettack\n",
    "attacker = Nettack(surrogate, nnodes=adj.shape[0], attack_structure=True, attack_features=False, device=device)\n",
    "attacker = attacker.to(device)\n",
    "\n",
    "# Attack the selected node with perturbation budget (e.g., 3)\n",
    "attacker.attack(features, adj, labels, target_node, n_perturbations=3)\n",
    "\n",
    "# Get modified adjacency and features\n",
    "modified_adj = attacker.modified_adj\n",
    "modified_features = attacker.modified_features\n"
   ]
  },
  {
   "cell_type": "code",
   "execution_count": 15,
   "id": "adfe36c6-4a4d-4e18-9f48-02df848252b8",
   "metadata": {},
   "outputs": [
    {
     "name": "stdout",
     "output_type": "stream",
     "text": [
      "[Clean Graph] Target node prediction: 2, True label: 2\n",
      "[Attacked Graph] Target node prediction: 5, True label: 2\n"
     ]
    }
   ],
   "source": [
    "# Re-train a GCN on the original graph\n",
    "clean_model = GCN(nfeat=features.shape[1], nclass=labels.max().item() + 1, nhid=16, device=device)\n",
    "clean_model = clean_model.to(device)\n",
    "clean_model.fit(features, adj_tensor, labels, idx_train)\n",
    "output_clean = clean_model.predict()\n",
    "print(f\"[Clean Graph] Target node prediction: {output_clean[target_node].argmax().item()}, True label: {labels[target_node].item()}\")\n",
    "\n",
    "# Re-train a GCN on the attacked graph (only for testing the target node)\n",
    "attacked_model = GCN(nfeat=features.shape[1], nclass=labels.max().item() + 1, nhid=16, device=device)\n",
    "attacked_model = attacked_model.to(device)\n",
    "attacked_model.fit(modified_features, modified_adj, labels, idx_train)\n",
    "output_attacked = attacked_model.predict()\n",
    "print(f\"[Attacked Graph] Target node prediction: {output_attacked[target_node].argmax().item()}, True label: {labels[target_node].item()}\")\n"
   ]
  },
  {
   "cell_type": "code",
   "execution_count": null,
   "id": "27507106-e3e6-459d-b84f-dabaefec9776",
   "metadata": {},
   "outputs": [],
   "source": []
  }
 ],
 "metadata": {
  "kernelspec": {
   "display_name": "Python 3 (ipykernel)",
   "language": "python",
   "name": "python3"
  },
  "language_info": {
   "codemirror_mode": {
    "name": "ipython",
    "version": 3
   },
   "file_extension": ".py",
   "mimetype": "text/x-python",
   "name": "python",
   "nbconvert_exporter": "python",
   "pygments_lexer": "ipython3",
   "version": "3.10.16"
  }
 },
 "nbformat": 4,
 "nbformat_minor": 5
}

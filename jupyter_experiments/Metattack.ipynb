{
 "cells": [
  {
   "cell_type": "code",
   "execution_count": 36,
   "id": "71c15ee2-cc6c-4107-a20d-5921c527a614",
   "metadata": {},
   "outputs": [
    {
     "name": "stdout",
     "output_type": "stream",
     "text": [
      "Loading cora dataset...\n",
      "Selecting 1 largest connected components\n"
     ]
    }
   ],
   "source": [
    "import torch\n",
    "import numpy as np\n",
    "from deeprobust.graph.data import Dataset\n",
    "from deeprobust.graph.defense import GCN\n",
    "from deeprobust.graph.global_attack import Metattack\n",
    "from deeprobust.graph.utils import accuracy\n",
    "from scipy.sparse import csr_matrix\n",
    "\n",
    "data = Dataset(root='/tmp/', name='cora', setting='nettack')\n",
    "adj, features, labels = data.adj, data.features, data.labels\n",
    "idx_train, idx_val, idx_test = data.idx_train, data.idx_val, data.idx_test\n",
    "idx_unlabeled = np.union1d(idx_val, idx_test)"
   ]
  },
  {
   "cell_type": "markdown",
   "id": "4f96b380-8c3c-41f6-a799-4f79e07a26cf",
   "metadata": {},
   "source": [
    "### Metattack globally poisons the graph dataset such that the target model performance is decreased after training"
   ]
  },
  {
   "cell_type": "code",
   "execution_count": 5,
   "id": "2dba2922-140c-4a07-8d31-e55d706ad791",
   "metadata": {},
   "outputs": [],
   "source": [
    "device = torch.device(\"cuda:0\" if torch.cuda.is_available() else \"cpu\")\n",
    "surrogate = GCN(nfeat=features.shape[1], nclass=labels.max().item()+1, nhid=16,\n",
    "                with_relu=False, device=device)\n",
    "surrogate = surrogate.to(device)\n",
    "surrogate.fit(features, adj, labels, idx_train)"
   ]
  },
  {
   "cell_type": "code",
   "execution_count": 6,
   "id": "ec87b157-e9ac-41fc-8ac6-03d4fcbe5dbb",
   "metadata": {},
   "outputs": [
    {
     "name": "stderr",
     "output_type": "stream",
     "text": [
      "Perturbing graph:   0%|                                                                                                                                                                     | 0/253 [00:00<?, ?it/s]"
     ]
    },
    {
     "name": "stdout",
     "output_type": "stream",
     "text": [
      "GCN loss on unlabled data: 0.5073423981666565\n",
      "GCN acc on unlabled data: 0.843540455967814\n",
      "attack loss: 0.21720069646835327\n"
     ]
    },
    {
     "name": "stderr",
     "output_type": "stream",
     "text": [
      "Perturbing graph:   0%|▌                                                                                                                                                            | 1/253 [00:02<12:12,  2.91s/it]"
     ]
    },
    {
     "name": "stdout",
     "output_type": "stream",
     "text": [
      "GCN loss on unlabled data: 0.5137107372283936\n",
      "GCN acc on unlabled data: 0.8372820742065266\n",
      "attack loss: 0.21778002381324768\n"
     ]
    },
    {
     "name": "stderr",
     "output_type": "stream",
     "text": [
      "Perturbing graph:   1%|█▏                                                                                                                                                           | 2/253 [00:05<11:42,  2.80s/it]"
     ]
    },
    {
     "name": "stdout",
     "output_type": "stream",
     "text": [
      "GCN loss on unlabled data: 0.5160946846008301\n",
      "GCN acc on unlabled data: 0.8529280286097451\n",
      "attack loss: 0.22951653599739075\n"
     ]
    },
    {
     "name": "stderr",
     "output_type": "stream",
     "text": [
      "Perturbing graph:   1%|█▊                                                                                                                                                           | 3/253 [00:08<11:30,  2.76s/it]"
     ]
    },
    {
     "name": "stdout",
     "output_type": "stream",
     "text": [
      "GCN loss on unlabled data: 0.5495636463165283\n",
      "GCN acc on unlabled data: 0.8363880196691998\n",
      "attack loss: 0.2279530018568039\n"
     ]
    },
    {
     "name": "stderr",
     "output_type": "stream",
     "text": [
      "Perturbing graph:   2%|██▍                                                                                                                                                          | 4/253 [00:11<11:18,  2.73s/it]"
     ]
    },
    {
     "name": "stdout",
     "output_type": "stream",
     "text": [
      "GCN loss on unlabled data: 0.5402201414108276\n",
      "GCN acc on unlabled data: 0.8341528833258829\n",
      "attack loss: 0.2250261902809143\n"
     ]
    },
    {
     "name": "stderr",
     "output_type": "stream",
     "text": [
      "Perturbing graph:   2%|███                                                                                                                                                          | 5/253 [00:13<11:16,  2.73s/it]"
     ]
    },
    {
     "name": "stdout",
     "output_type": "stream",
     "text": [
      "GCN loss on unlabled data: 0.5528815388679504\n",
      "GCN acc on unlabled data: 0.8399642378185069\n",
      "attack loss: 0.23467661440372467\n"
     ]
    },
    {
     "name": "stderr",
     "output_type": "stream",
     "text": [
      "Perturbing graph:   2%|███▋                                                                                                                                                         | 6/253 [00:16<11:17,  2.74s/it]"
     ]
    },
    {
     "name": "stdout",
     "output_type": "stream",
     "text": [
      "GCN loss on unlabled data: 0.5571839213371277\n",
      "GCN acc on unlabled data: 0.8421993741618239\n",
      "attack loss: 0.23176324367523193\n"
     ]
    },
    {
     "name": "stderr",
     "output_type": "stream",
     "text": [
      "Perturbing graph:   3%|████▎                                                                                                                                                        | 7/253 [00:19<11:12,  2.73s/it]"
     ]
    },
    {
     "name": "stdout",
     "output_type": "stream",
     "text": [
      "GCN loss on unlabled data: 0.5547482967376709\n",
      "GCN acc on unlabled data: 0.8261063924899419\n",
      "attack loss: 0.2372669279575348\n"
     ]
    },
    {
     "name": "stderr",
     "output_type": "stream",
     "text": [
      "Perturbing graph:   3%|████▉                                                                                                                                                        | 8/253 [00:21<11:06,  2.72s/it]"
     ]
    },
    {
     "name": "stdout",
     "output_type": "stream",
     "text": [
      "GCN loss on unlabled data: 0.582477867603302\n",
      "GCN acc on unlabled data: 0.8104604380867233\n",
      "attack loss: 0.2466142475605011\n"
     ]
    },
    {
     "name": "stderr",
     "output_type": "stream",
     "text": [
      "Perturbing graph:   4%|█████▌                                                                                                                                                       | 9/253 [00:24<11:09,  2.75s/it]"
     ]
    },
    {
     "name": "stdout",
     "output_type": "stream",
     "text": [
      "GCN loss on unlabled data: 0.554459810256958\n",
      "GCN acc on unlabled data: 0.8252123379526151\n",
      "attack loss: 0.24430418014526367\n"
     ]
    },
    {
     "name": "stderr",
     "output_type": "stream",
     "text": [
      "Perturbing graph:   4%|██████▏                                                                                                                                                     | 10/253 [00:27<11:06,  2.74s/it]"
     ]
    },
    {
     "name": "stdout",
     "output_type": "stream",
     "text": [
      "GCN loss on unlabled data: 0.5685836672782898\n",
      "GCN acc on unlabled data: 0.8292355833705856\n",
      "attack loss: 0.24583756923675537\n"
     ]
    },
    {
     "name": "stderr",
     "output_type": "stream",
     "text": [
      "Perturbing graph:   4%|██████▊                                                                                                                                                     | 11/253 [00:30<11:05,  2.75s/it]"
     ]
    },
    {
     "name": "stdout",
     "output_type": "stream",
     "text": [
      "GCN loss on unlabled data: 0.5774021744728088\n",
      "GCN acc on unlabled data: 0.827447474295932\n",
      "attack loss: 0.24190066754817963\n"
     ]
    },
    {
     "name": "stderr",
     "output_type": "stream",
     "text": [
      "Perturbing graph:   5%|███████▍                                                                                                                                                    | 12/253 [00:33<11:06,  2.76s/it]"
     ]
    },
    {
     "name": "stdout",
     "output_type": "stream",
     "text": [
      "GCN loss on unlabled data: 0.5634269118309021\n",
      "GCN acc on unlabled data: 0.8310236924452392\n",
      "attack loss: 0.24182875454425812\n"
     ]
    },
    {
     "name": "stderr",
     "output_type": "stream",
     "text": [
      "Perturbing graph:   5%|████████                                                                                                                                                    | 13/253 [00:35<11:09,  2.79s/it]"
     ]
    },
    {
     "name": "stdout",
     "output_type": "stream",
     "text": [
      "GCN loss on unlabled data: 0.5558571815490723\n",
      "GCN acc on unlabled data: 0.8180599016540009\n",
      "attack loss: 0.24797940254211426\n"
     ]
    },
    {
     "name": "stderr",
     "output_type": "stream",
     "text": [
      "Perturbing graph:   6%|████████▋                                                                                                                                                   | 14/253 [00:38<11:03,  2.78s/it]"
     ]
    },
    {
     "name": "stdout",
     "output_type": "stream",
     "text": [
      "GCN loss on unlabled data: 0.578830897808075\n",
      "GCN acc on unlabled data: 0.8278945015645954\n",
      "attack loss: 0.25153830647468567\n"
     ]
    },
    {
     "name": "stderr",
     "output_type": "stream",
     "text": [
      "Perturbing graph:   6%|█████████▏                                                                                                                                                  | 15/253 [00:41<11:00,  2.78s/it]"
     ]
    },
    {
     "name": "stdout",
     "output_type": "stream",
     "text": [
      "GCN loss on unlabled data: 0.5927585363388062\n",
      "GCN acc on unlabled data: 0.821636119803308\n",
      "attack loss: 0.25594672560691833\n"
     ]
    },
    {
     "name": "stderr",
     "output_type": "stream",
     "text": [
      "Perturbing graph:   6%|█████████▊                                                                                                                                                  | 16/253 [00:44<10:57,  2.78s/it]"
     ]
    },
    {
     "name": "stdout",
     "output_type": "stream",
     "text": [
      "GCN loss on unlabled data: 0.5600240230560303\n",
      "GCN acc on unlabled data: 0.8225301743406348\n",
      "attack loss: 0.249745175242424\n"
     ]
    },
    {
     "name": "stderr",
     "output_type": "stream",
     "text": [
      "Perturbing graph:   7%|██████████▍                                                                                                                                                 | 17/253 [00:46<10:54,  2.77s/it]"
     ]
    },
    {
     "name": "stdout",
     "output_type": "stream",
     "text": [
      "GCN loss on unlabled data: 0.5899108052253723\n",
      "GCN acc on unlabled data: 0.8207420652659813\n",
      "attack loss: 0.26631617546081543\n"
     ]
    },
    {
     "name": "stderr",
     "output_type": "stream",
     "text": [
      "Perturbing graph:   7%|███████████                                                                                                                                                 | 18/253 [00:49<10:56,  2.79s/it]"
     ]
    },
    {
     "name": "stdout",
     "output_type": "stream",
     "text": [
      "GCN loss on unlabled data: 0.5994907021522522\n",
      "GCN acc on unlabled data: 0.8265534197586053\n",
      "attack loss: 0.2686668634414673\n"
     ]
    },
    {
     "name": "stderr",
     "output_type": "stream",
     "text": [
      "Perturbing graph:   8%|███████████▋                                                                                                                                                | 19/253 [00:52<10:50,  2.78s/it]"
     ]
    },
    {
     "name": "stdout",
     "output_type": "stream",
     "text": [
      "GCN loss on unlabled data: 0.5489425659179688\n",
      "GCN acc on unlabled data: 0.8337058560572195\n",
      "attack loss: 0.24859224259853363\n"
     ]
    },
    {
     "name": "stderr",
     "output_type": "stream",
     "text": [
      "Perturbing graph:   8%|████████████▎                                                                                                                                               | 20/253 [00:55<10:47,  2.78s/it]"
     ]
    },
    {
     "name": "stdout",
     "output_type": "stream",
     "text": [
      "GCN loss on unlabled data: 0.5659968256950378\n",
      "GCN acc on unlabled data: 0.8328118015198928\n",
      "attack loss: 0.26334425806999207\n"
     ]
    },
    {
     "name": "stderr",
     "output_type": "stream",
     "text": [
      "Perturbing graph:   8%|████████████▉                                                                                                                                               | 21/253 [00:58<10:47,  2.79s/it]"
     ]
    },
    {
     "name": "stdout",
     "output_type": "stream",
     "text": [
      "GCN loss on unlabled data: 0.5758575201034546\n",
      "GCN acc on unlabled data: 0.8211890925346446\n",
      "attack loss: 0.271430641412735\n"
     ]
    },
    {
     "name": "stderr",
     "output_type": "stream",
     "text": [
      "Perturbing graph:   9%|█████████████▌                                                                                                                                              | 22/253 [01:00<10:42,  2.78s/it]"
     ]
    },
    {
     "name": "stdout",
     "output_type": "stream",
     "text": [
      "GCN loss on unlabled data: 0.5814706087112427\n",
      "GCN acc on unlabled data: 0.8189539561913277\n",
      "attack loss: 0.2729647159576416\n"
     ]
    },
    {
     "name": "stderr",
     "output_type": "stream",
     "text": [
      "Perturbing graph:   9%|██████████████▏                                                                                                                                             | 23/253 [01:03<10:39,  2.78s/it]"
     ]
    },
    {
     "name": "stdout",
     "output_type": "stream",
     "text": [
      "GCN loss on unlabled data: 0.6041983366012573\n",
      "GCN acc on unlabled data: 0.821636119803308\n",
      "attack loss: 0.2724718749523163\n"
     ]
    },
    {
     "name": "stderr",
     "output_type": "stream",
     "text": [
      "Perturbing graph:   9%|██████████████▊                                                                                                                                             | 24/253 [01:06<10:41,  2.80s/it]"
     ]
    },
    {
     "name": "stdout",
     "output_type": "stream",
     "text": [
      "GCN loss on unlabled data: 0.5912826061248779\n",
      "GCN acc on unlabled data: 0.8198480107286544\n",
      "attack loss: 0.2702346742153168\n"
     ]
    },
    {
     "name": "stderr",
     "output_type": "stream",
     "text": [
      "Perturbing graph:  10%|███████████████▍                                                                                                                                            | 25/253 [01:09<10:41,  2.82s/it]"
     ]
    },
    {
     "name": "stdout",
     "output_type": "stream",
     "text": [
      "GCN loss on unlabled data: 0.6071606874465942\n",
      "GCN acc on unlabled data: 0.8118015198927134\n",
      "attack loss: 0.274334579706192\n"
     ]
    },
    {
     "name": "stderr",
     "output_type": "stream",
     "text": [
      "Perturbing graph:  10%|████████████████                                                                                                                                            | 26/253 [01:12<10:39,  2.82s/it]"
     ]
    },
    {
     "name": "stdout",
     "output_type": "stream",
     "text": [
      "GCN loss on unlabled data: 0.6166197061538696\n",
      "GCN acc on unlabled data: 0.8149307107733572\n",
      "attack loss: 0.2787913978099823\n"
     ]
    },
    {
     "name": "stderr",
     "output_type": "stream",
     "text": [
      "Perturbing graph:  11%|████████████████▋                                                                                                                                           | 27/253 [01:15<10:51,  2.88s/it]"
     ]
    },
    {
     "name": "stdout",
     "output_type": "stream",
     "text": [
      "GCN loss on unlabled data: 0.6071434020996094\n",
      "GCN acc on unlabled data: 0.8149307107733572\n",
      "attack loss: 0.29024308919906616\n"
     ]
    },
    {
     "name": "stderr",
     "output_type": "stream",
     "text": [
      "Perturbing graph:  11%|█████████████████▎                                                                                                                                          | 28/253 [01:18<10:44,  2.86s/it]"
     ]
    },
    {
     "name": "stdout",
     "output_type": "stream",
     "text": [
      "GCN loss on unlabled data: 0.6127248406410217\n",
      "GCN acc on unlabled data: 0.8144836835046938\n",
      "attack loss: 0.2896835207939148\n"
     ]
    },
    {
     "name": "stderr",
     "output_type": "stream",
     "text": [
      "Perturbing graph:  11%|█████████████████▉                                                                                                                                          | 29/253 [01:20<10:36,  2.84s/it]"
     ]
    },
    {
     "name": "stdout",
     "output_type": "stream",
     "text": [
      "GCN loss on unlabled data: 0.6105560660362244\n",
      "GCN acc on unlabled data: 0.8252123379526151\n",
      "attack loss: 0.2896174490451813\n"
     ]
    },
    {
     "name": "stderr",
     "output_type": "stream",
     "text": [
      "Perturbing graph:  12%|██████████████████▍                                                                                                                                         | 30/253 [01:23<10:24,  2.80s/it]"
     ]
    },
    {
     "name": "stdout",
     "output_type": "stream",
     "text": [
      "GCN loss on unlabled data: 0.6168192625045776\n",
      "GCN acc on unlabled data: 0.813589628967367\n",
      "attack loss: 0.29217609763145447\n"
     ]
    },
    {
     "name": "stderr",
     "output_type": "stream",
     "text": [
      "Perturbing graph:  12%|███████████████████                                                                                                                                         | 31/253 [01:26<10:15,  2.77s/it]"
     ]
    },
    {
     "name": "stdout",
     "output_type": "stream",
     "text": [
      "GCN loss on unlabled data: 0.6075882911682129\n",
      "GCN acc on unlabled data: 0.8185069289226643\n",
      "attack loss: 0.2887592911720276\n"
     ]
    },
    {
     "name": "stderr",
     "output_type": "stream",
     "text": [
      "Perturbing graph:  13%|███████████████████▋                                                                                                                                        | 32/253 [01:29<10:16,  2.79s/it]"
     ]
    },
    {
     "name": "stdout",
     "output_type": "stream",
     "text": [
      "GCN loss on unlabled data: 0.6460604667663574\n",
      "GCN acc on unlabled data: 0.8126955744300403\n",
      "attack loss: 0.3036996126174927\n"
     ]
    },
    {
     "name": "stderr",
     "output_type": "stream",
     "text": [
      "Perturbing graph:  13%|████████████████████▎                                                                                                                                       | 33/253 [01:31<10:20,  2.82s/it]"
     ]
    },
    {
     "name": "stdout",
     "output_type": "stream",
     "text": [
      "GCN loss on unlabled data: 0.6019677519798279\n",
      "GCN acc on unlabled data: 0.8189539561913277\n",
      "attack loss: 0.2892278730869293\n"
     ]
    },
    {
     "name": "stderr",
     "output_type": "stream",
     "text": [
      "Perturbing graph:  13%|████████████████████▉                                                                                                                                       | 34/253 [01:34<10:21,  2.84s/it]"
     ]
    },
    {
     "name": "stdout",
     "output_type": "stream",
     "text": [
      "GCN loss on unlabled data: 0.6303139328956604\n",
      "GCN acc on unlabled data: 0.819400983459991\n",
      "attack loss: 0.2996233105659485\n"
     ]
    },
    {
     "name": "stderr",
     "output_type": "stream",
     "text": [
      "Perturbing graph:  14%|█████████████████████▌                                                                                                                                      | 35/253 [01:37<10:32,  2.90s/it]"
     ]
    },
    {
     "name": "stdout",
     "output_type": "stream",
     "text": [
      "GCN loss on unlabled data: 0.6704381108283997\n",
      "GCN acc on unlabled data: 0.7943674564148413\n",
      "attack loss: 0.3129320740699768\n"
     ]
    },
    {
     "name": "stderr",
     "output_type": "stream",
     "text": [
      "Perturbing graph:  14%|██████████████████████▏                                                                                                                                     | 36/253 [01:40<10:27,  2.89s/it]"
     ]
    },
    {
     "name": "stdout",
     "output_type": "stream",
     "text": [
      "GCN loss on unlabled data: 0.6088486313819885\n",
      "GCN acc on unlabled data: 0.8198480107286544\n",
      "attack loss: 0.2891751527786255\n"
     ]
    },
    {
     "name": "stderr",
     "output_type": "stream",
     "text": [
      "Perturbing graph:  15%|██████████████████████▊                                                                                                                                     | 37/253 [01:43<10:23,  2.89s/it]"
     ]
    },
    {
     "name": "stdout",
     "output_type": "stream",
     "text": [
      "GCN loss on unlabled data: 0.6155182123184204\n",
      "GCN acc on unlabled data: 0.8104604380867233\n",
      "attack loss: 0.305149108171463\n"
     ]
    },
    {
     "name": "stderr",
     "output_type": "stream",
     "text": [
      "Perturbing graph:  15%|███████████████████████▍                                                                                                                                    | 38/253 [01:46<10:05,  2.82s/it]"
     ]
    },
    {
     "name": "stdout",
     "output_type": "stream",
     "text": [
      "GCN loss on unlabled data: 0.651087760925293\n",
      "GCN acc on unlabled data: 0.805543138131426\n",
      "attack loss: 0.31307893991470337\n"
     ]
    },
    {
     "name": "stderr",
     "output_type": "stream",
     "text": [
      "Perturbing graph:  15%|████████████████████████                                                                                                                                    | 39/253 [01:48<09:54,  2.78s/it]"
     ]
    },
    {
     "name": "stdout",
     "output_type": "stream",
     "text": [
      "GCN loss on unlabled data: 0.6171430349349976\n",
      "GCN acc on unlabled data: 0.8077782744747429\n",
      "attack loss: 0.2865350544452667\n"
     ]
    },
    {
     "name": "stderr",
     "output_type": "stream",
     "text": [
      "Perturbing graph:  16%|████████████████████████▋                                                                                                                                   | 40/253 [01:51<09:47,  2.76s/it]"
     ]
    },
    {
     "name": "stdout",
     "output_type": "stream",
     "text": [
      "GCN loss on unlabled data: 0.6786859035491943\n",
      "GCN acc on unlabled data: 0.7979436745641484\n",
      "attack loss: 0.3111327886581421\n"
     ]
    },
    {
     "name": "stderr",
     "output_type": "stream",
     "text": [
      "Perturbing graph:  16%|█████████████████████████▎                                                                                                                                  | 41/253 [01:54<09:40,  2.74s/it]"
     ]
    },
    {
     "name": "stdout",
     "output_type": "stream",
     "text": [
      "GCN loss on unlabled data: 0.6102649569511414\n",
      "GCN acc on unlabled data: 0.8149307107733572\n",
      "attack loss: 0.29198819398880005\n"
     ]
    },
    {
     "name": "stderr",
     "output_type": "stream",
     "text": [
      "Perturbing graph:  17%|█████████████████████████▉                                                                                                                                  | 42/253 [01:56<09:28,  2.69s/it]"
     ]
    },
    {
     "name": "stdout",
     "output_type": "stream",
     "text": [
      "GCN loss on unlabled data: 0.6499633193016052\n",
      "GCN acc on unlabled data: 0.8073312472060795\n",
      "attack loss: 0.3024955987930298\n"
     ]
    },
    {
     "name": "stderr",
     "output_type": "stream",
     "text": [
      "Perturbing graph:  17%|██████████████████████████▌                                                                                                                                 | 43/253 [01:59<09:24,  2.69s/it]"
     ]
    },
    {
     "name": "stdout",
     "output_type": "stream",
     "text": [
      "GCN loss on unlabled data: 0.6366762518882751\n",
      "GCN acc on unlabled data: 0.8028609745194457\n",
      "attack loss: 0.3027932047843933\n"
     ]
    },
    {
     "name": "stderr",
     "output_type": "stream",
     "text": [
      "Perturbing graph:  17%|███████████████████████████▏                                                                                                                                | 44/253 [02:02<09:25,  2.71s/it]"
     ]
    },
    {
     "name": "stdout",
     "output_type": "stream",
     "text": [
      "GCN loss on unlabled data: 0.6259313225746155\n",
      "GCN acc on unlabled data: 0.8033080017881091\n",
      "attack loss: 0.29891327023506165\n"
     ]
    },
    {
     "name": "stderr",
     "output_type": "stream",
     "text": [
      "Perturbing graph:  18%|███████████████████████████▋                                                                                                                                | 45/253 [02:05<09:20,  2.69s/it]"
     ]
    },
    {
     "name": "stdout",
     "output_type": "stream",
     "text": [
      "GCN loss on unlabled data: 0.6477731466293335\n",
      "GCN acc on unlabled data: 0.8046490835940993\n",
      "attack loss: 0.30621200799942017\n"
     ]
    },
    {
     "name": "stderr",
     "output_type": "stream",
     "text": [
      "Perturbing graph:  18%|████████████████████████████▎                                                                                                                               | 46/253 [02:07<09:14,  2.68s/it]"
     ]
    },
    {
     "name": "stdout",
     "output_type": "stream",
     "text": [
      "GCN loss on unlabled data: 0.658810555934906\n",
      "GCN acc on unlabled data: 0.8064371926687528\n",
      "attack loss: 0.30673548579216003\n"
     ]
    },
    {
     "name": "stderr",
     "output_type": "stream",
     "text": [
      "Perturbing graph:  19%|████████████████████████████▉                                                                                                                               | 47/253 [02:10<09:15,  2.70s/it]"
     ]
    },
    {
     "name": "stdout",
     "output_type": "stream",
     "text": [
      "GCN loss on unlabled data: 0.6570864915847778\n",
      "GCN acc on unlabled data: 0.7988377291014752\n",
      "attack loss: 0.3086742162704468\n"
     ]
    },
    {
     "name": "stderr",
     "output_type": "stream",
     "text": [
      "Perturbing graph:  19%|█████████████████████████████▌                                                                                                                              | 48/253 [02:13<09:09,  2.68s/it]"
     ]
    },
    {
     "name": "stdout",
     "output_type": "stream",
     "text": [
      "GCN loss on unlabled data: 0.6403256058692932\n",
      "GCN acc on unlabled data: 0.8122485471613768\n",
      "attack loss: 0.30864518880844116\n"
     ]
    },
    {
     "name": "stderr",
     "output_type": "stream",
     "text": [
      "Perturbing graph:  19%|██████████████████████████████▏                                                                                                                             | 49/253 [02:15<09:13,  2.71s/it]"
     ]
    },
    {
     "name": "stdout",
     "output_type": "stream",
     "text": [
      "GCN loss on unlabled data: 0.6322962045669556\n",
      "GCN acc on unlabled data: 0.8140366562360304\n",
      "attack loss: 0.3036879599094391\n"
     ]
    },
    {
     "name": "stderr",
     "output_type": "stream",
     "text": [
      "Perturbing graph:  20%|██████████████████████████████▊                                                                                                                             | 50/253 [02:18<09:16,  2.74s/it]"
     ]
    },
    {
     "name": "stdout",
     "output_type": "stream",
     "text": [
      "GCN loss on unlabled data: 0.6303513646125793\n",
      "GCN acc on unlabled data: 0.8126955744300403\n",
      "attack loss: 0.31067201495170593\n"
     ]
    },
    {
     "name": "stderr",
     "output_type": "stream",
     "text": [
      "Perturbing graph:  20%|███████████████████████████████▍                                                                                                                            | 51/253 [02:21<09:12,  2.74s/it]"
     ]
    },
    {
     "name": "stdout",
     "output_type": "stream",
     "text": [
      "GCN loss on unlabled data: 0.6664316654205322\n",
      "GCN acc on unlabled data: 0.7992847563701386\n",
      "attack loss: 0.31278619170188904\n"
     ]
    },
    {
     "name": "stderr",
     "output_type": "stream",
     "text": [
      "Perturbing graph:  21%|████████████████████████████████                                                                                                                            | 52/253 [02:24<09:03,  2.71s/it]"
     ]
    },
    {
     "name": "stdout",
     "output_type": "stream",
     "text": [
      "GCN loss on unlabled data: 0.627382755279541\n",
      "GCN acc on unlabled data: 0.8109074653553867\n",
      "attack loss: 0.30699148774147034\n"
     ]
    },
    {
     "name": "stderr",
     "output_type": "stream",
     "text": [
      "Perturbing graph:  21%|████████████████████████████████▋                                                                                                                           | 53/253 [02:26<09:00,  2.70s/it]"
     ]
    },
    {
     "name": "stdout",
     "output_type": "stream",
     "text": [
      "GCN loss on unlabled data: 0.654418408870697\n",
      "GCN acc on unlabled data: 0.8073312472060795\n",
      "attack loss: 0.3196377754211426\n"
     ]
    },
    {
     "name": "stderr",
     "output_type": "stream",
     "text": [
      "Perturbing graph:  21%|█████████████████████████████████▎                                                                                                                          | 54/253 [02:29<08:53,  2.68s/it]"
     ]
    },
    {
     "name": "stdout",
     "output_type": "stream",
     "text": [
      "GCN loss on unlabled data: 0.694679856300354\n",
      "GCN acc on unlabled data: 0.7983907018328118\n",
      "attack loss: 0.33828771114349365\n"
     ]
    },
    {
     "name": "stderr",
     "output_type": "stream",
     "text": [
      "Perturbing graph:  22%|█████████████████████████████████▉                                                                                                                          | 55/253 [02:31<08:47,  2.66s/it]"
     ]
    },
    {
     "name": "stdout",
     "output_type": "stream",
     "text": [
      "GCN loss on unlabled data: 0.6621248126029968\n",
      "GCN acc on unlabled data: 0.8068842199374162\n",
      "attack loss: 0.3233127295970917\n"
     ]
    },
    {
     "name": "stderr",
     "output_type": "stream",
     "text": [
      "Perturbing graph:  22%|██████████████████████████████████▌                                                                                                                         | 56/253 [02:34<08:43,  2.66s/it]"
     ]
    },
    {
     "name": "stdout",
     "output_type": "stream",
     "text": [
      "GCN loss on unlabled data: 0.6460619568824768\n",
      "GCN acc on unlabled data: 0.8033080017881091\n",
      "attack loss: 0.31469884514808655\n"
     ]
    },
    {
     "name": "stderr",
     "output_type": "stream",
     "text": [
      "Perturbing graph:  23%|███████████████████████████████████▏                                                                                                                        | 57/253 [02:37<08:39,  2.65s/it]"
     ]
    },
    {
     "name": "stdout",
     "output_type": "stream",
     "text": [
      "GCN loss on unlabled data: 0.6563943028450012\n",
      "GCN acc on unlabled data: 0.8095663835493965\n",
      "attack loss: 0.3223074972629547\n"
     ]
    },
    {
     "name": "stderr",
     "output_type": "stream",
     "text": [
      "Perturbing graph:  23%|███████████████████████████████████▊                                                                                                                        | 58/253 [02:39<08:35,  2.64s/it]"
     ]
    },
    {
     "name": "stdout",
     "output_type": "stream",
     "text": [
      "GCN loss on unlabled data: 0.6588566899299622\n",
      "GCN acc on unlabled data: 0.8073312472060795\n",
      "attack loss: 0.3276900053024292\n"
     ]
    },
    {
     "name": "stderr",
     "output_type": "stream",
     "text": [
      "Perturbing graph:  23%|████████████████████████████████████▍                                                                                                                       | 59/253 [02:42<08:39,  2.68s/it]"
     ]
    },
    {
     "name": "stdout",
     "output_type": "stream",
     "text": [
      "GCN loss on unlabled data: 0.639305830001831\n",
      "GCN acc on unlabled data: 0.8037550290567724\n",
      "attack loss: 0.3170509338378906\n"
     ]
    },
    {
     "name": "stderr",
     "output_type": "stream",
     "text": [
      "Perturbing graph:  24%|████████████████████████████████████▉                                                                                                                       | 60/253 [02:45<08:41,  2.70s/it]"
     ]
    },
    {
     "name": "stdout",
     "output_type": "stream",
     "text": [
      "GCN loss on unlabled data: 0.6790832877159119\n",
      "GCN acc on unlabled data: 0.8104604380867233\n",
      "attack loss: 0.33734092116355896\n"
     ]
    },
    {
     "name": "stderr",
     "output_type": "stream",
     "text": [
      "Perturbing graph:  24%|█████████████████████████████████████▌                                                                                                                      | 61/253 [02:48<08:37,  2.69s/it]"
     ]
    },
    {
     "name": "stdout",
     "output_type": "stream",
     "text": [
      "GCN loss on unlabled data: 0.6795922517776489\n",
      "GCN acc on unlabled data: 0.8091193562807332\n",
      "attack loss: 0.33572065830230713\n"
     ]
    },
    {
     "name": "stderr",
     "output_type": "stream",
     "text": [
      "Perturbing graph:  25%|██████████████████████████████████████▏                                                                                                                     | 62/253 [02:50<08:42,  2.74s/it]"
     ]
    },
    {
     "name": "stdout",
     "output_type": "stream",
     "text": [
      "GCN loss on unlabled data: 0.6822558045387268\n",
      "GCN acc on unlabled data: 0.8019669199821189\n",
      "attack loss: 0.3344799876213074\n"
     ]
    },
    {
     "name": "stderr",
     "output_type": "stream",
     "text": [
      "Perturbing graph:  25%|██████████████████████████████████████▊                                                                                                                     | 63/253 [02:53<08:39,  2.73s/it]"
     ]
    },
    {
     "name": "stdout",
     "output_type": "stream",
     "text": [
      "GCN loss on unlabled data: 0.6684738993644714\n",
      "GCN acc on unlabled data: 0.8019669199821189\n",
      "attack loss: 0.33207207918167114\n"
     ]
    },
    {
     "name": "stderr",
     "output_type": "stream",
     "text": [
      "Perturbing graph:  25%|███████████████████████████████████████▍                                                                                                                    | 64/253 [02:56<08:35,  2.73s/it]"
     ]
    },
    {
     "name": "stdout",
     "output_type": "stream",
     "text": [
      "GCN loss on unlabled data: 0.6858726143836975\n",
      "GCN acc on unlabled data: 0.7992847563701386\n",
      "attack loss: 0.34440794587135315\n"
     ]
    },
    {
     "name": "stderr",
     "output_type": "stream",
     "text": [
      "Perturbing graph:  26%|████████████████████████████████████████                                                                                                                    | 65/253 [02:59<08:31,  2.72s/it]"
     ]
    },
    {
     "name": "stdout",
     "output_type": "stream",
     "text": [
      "GCN loss on unlabled data: 0.6862095594406128\n",
      "GCN acc on unlabled data: 0.7997317836388019\n",
      "attack loss: 0.33503079414367676\n"
     ]
    },
    {
     "name": "stderr",
     "output_type": "stream",
     "text": [
      "Perturbing graph:  26%|████████████████████████████████████████▋                                                                                                                   | 66/253 [03:01<08:24,  2.70s/it]"
     ]
    },
    {
     "name": "stdout",
     "output_type": "stream",
     "text": [
      "GCN loss on unlabled data: 0.6710614562034607\n",
      "GCN acc on unlabled data: 0.7992847563701386\n",
      "attack loss: 0.35279324650764465\n"
     ]
    },
    {
     "name": "stderr",
     "output_type": "stream",
     "text": [
      "Perturbing graph:  26%|█████████████████████████████████████████▎                                                                                                                  | 67/253 [03:04<08:19,  2.69s/it]"
     ]
    },
    {
     "name": "stdout",
     "output_type": "stream",
     "text": [
      "GCN loss on unlabled data: 0.6538966298103333\n",
      "GCN acc on unlabled data: 0.8059901654000894\n",
      "attack loss: 0.33812081813812256\n"
     ]
    },
    {
     "name": "stderr",
     "output_type": "stream",
     "text": [
      "Perturbing graph:  27%|█████████████████████████████████████████▉                                                                                                                  | 68/253 [03:07<08:17,  2.69s/it]"
     ]
    },
    {
     "name": "stdout",
     "output_type": "stream",
     "text": [
      "GCN loss on unlabled data: 0.653424859046936\n",
      "GCN acc on unlabled data: 0.8100134108180599\n",
      "attack loss: 0.34187301993370056\n"
     ]
    },
    {
     "name": "stderr",
     "output_type": "stream",
     "text": [
      "Perturbing graph:  27%|██████████████████████████████████████████▌                                                                                                                 | 69/253 [03:09<08:23,  2.74s/it]"
     ]
    },
    {
     "name": "stdout",
     "output_type": "stream",
     "text": [
      "GCN loss on unlabled data: 0.6840965747833252\n",
      "GCN acc on unlabled data: 0.8024139472507823\n",
      "attack loss: 0.3421804904937744\n"
     ]
    },
    {
     "name": "stderr",
     "output_type": "stream",
     "text": [
      "Perturbing graph:  28%|███████████████████████████████████████████▏                                                                                                                | 70/253 [03:12<08:21,  2.74s/it]"
     ]
    },
    {
     "name": "stdout",
     "output_type": "stream",
     "text": [
      "GCN loss on unlabled data: 0.6603263020515442\n",
      "GCN acc on unlabled data: 0.8126955744300403\n",
      "attack loss: 0.33168935775756836\n"
     ]
    },
    {
     "name": "stderr",
     "output_type": "stream",
     "text": [
      "Perturbing graph:  28%|███████████████████████████████████████████▊                                                                                                                | 71/253 [03:15<08:18,  2.74s/it]"
     ]
    },
    {
     "name": "stdout",
     "output_type": "stream",
     "text": [
      "GCN loss on unlabled data: 0.7111313939094543\n",
      "GCN acc on unlabled data: 0.7970496200268217\n",
      "attack loss: 0.3572482466697693\n"
     ]
    },
    {
     "name": "stderr",
     "output_type": "stream",
     "text": [
      "Perturbing graph:  28%|████████████████████████████████████████████▍                                                                                                               | 72/253 [03:18<08:13,  2.73s/it]"
     ]
    },
    {
     "name": "stdout",
     "output_type": "stream",
     "text": [
      "GCN loss on unlabled data: 0.650375485420227\n",
      "GCN acc on unlabled data: 0.8091193562807332\n",
      "attack loss: 0.3495275378227234\n"
     ]
    },
    {
     "name": "stderr",
     "output_type": "stream",
     "text": [
      "Perturbing graph:  29%|█████████████████████████████████████████████                                                                                                               | 73/253 [03:20<08:09,  2.72s/it]"
     ]
    },
    {
     "name": "stdout",
     "output_type": "stream",
     "text": [
      "GCN loss on unlabled data: 0.6783533096313477\n",
      "GCN acc on unlabled data: 0.7854269110415736\n",
      "attack loss: 0.341352254152298\n"
     ]
    },
    {
     "name": "stderr",
     "output_type": "stream",
     "text": [
      "Perturbing graph:  29%|█████████████████████████████████████████████▋                                                                                                              | 74/253 [03:23<08:07,  2.73s/it]"
     ]
    },
    {
     "name": "stdout",
     "output_type": "stream",
     "text": [
      "GCN loss on unlabled data: 0.6677812933921814\n",
      "GCN acc on unlabled data: 0.7934734018775146\n",
      "attack loss: 0.34658995270729065\n"
     ]
    },
    {
     "name": "stderr",
     "output_type": "stream",
     "text": [
      "Perturbing graph:  30%|██████████████████████████████████████████████▏                                                                                                             | 75/253 [03:26<08:05,  2.73s/it]"
     ]
    },
    {
     "name": "stdout",
     "output_type": "stream",
     "text": [
      "GCN loss on unlabled data: 0.6568937301635742\n",
      "GCN acc on unlabled data: 0.8086723290120698\n",
      "attack loss: 0.3525553047657013\n"
     ]
    },
    {
     "name": "stderr",
     "output_type": "stream",
     "text": [
      "Perturbing graph:  30%|██████████████████████████████████████████████▊                                                                                                             | 76/253 [03:28<07:59,  2.71s/it]"
     ]
    },
    {
     "name": "stdout",
     "output_type": "stream",
     "text": [
      "GCN loss on unlabled data: 0.7119570374488831\n",
      "GCN acc on unlabled data: 0.7800625838176128\n",
      "attack loss: 0.3677625060081482\n"
     ]
    },
    {
     "name": "stderr",
     "output_type": "stream",
     "text": [
      "Perturbing graph:  30%|███████████████████████████████████████████████▍                                                                                                            | 77/253 [03:31<07:56,  2.71s/it]"
     ]
    },
    {
     "name": "stdout",
     "output_type": "stream",
     "text": [
      "GCN loss on unlabled data: 0.649849534034729\n",
      "GCN acc on unlabled data: 0.8028609745194457\n",
      "attack loss: 0.3365163207054138\n"
     ]
    },
    {
     "name": "stderr",
     "output_type": "stream",
     "text": [
      "Perturbing graph:  31%|████████████████████████████████████████████████                                                                                                            | 78/253 [03:34<07:50,  2.69s/it]"
     ]
    },
    {
     "name": "stdout",
     "output_type": "stream",
     "text": [
      "GCN loss on unlabled data: 0.6375333666801453\n",
      "GCN acc on unlabled data: 0.8082253017434063\n",
      "attack loss: 0.3521714210510254\n"
     ]
    },
    {
     "name": "stderr",
     "output_type": "stream",
     "text": [
      "Perturbing graph:  31%|████████████████████████████████████████████████▋                                                                                                           | 79/253 [03:36<07:46,  2.68s/it]"
     ]
    },
    {
     "name": "stdout",
     "output_type": "stream",
     "text": [
      "GCN loss on unlabled data: 0.6734502911567688\n",
      "GCN acc on unlabled data: 0.8033080017881091\n",
      "attack loss: 0.353602796792984\n"
     ]
    },
    {
     "name": "stderr",
     "output_type": "stream",
     "text": [
      "Perturbing graph:  32%|█████████████████████████████████████████████████▎                                                                                                          | 80/253 [03:39<07:44,  2.68s/it]"
     ]
    },
    {
     "name": "stdout",
     "output_type": "stream",
     "text": [
      "GCN loss on unlabled data: 0.6824455857276917\n",
      "GCN acc on unlabled data: 0.7849798837729102\n",
      "attack loss: 0.3408914804458618\n"
     ]
    },
    {
     "name": "stderr",
     "output_type": "stream",
     "text": [
      "Perturbing graph:  32%|█████████████████████████████████████████████████▉                                                                                                          | 81/253 [03:42<07:39,  2.67s/it]"
     ]
    },
    {
     "name": "stdout",
     "output_type": "stream",
     "text": [
      "GCN loss on unlabled data: 0.6817585229873657\n",
      "GCN acc on unlabled data: 0.8028609745194457\n",
      "attack loss: 0.3504848778247833\n"
     ]
    },
    {
     "name": "stderr",
     "output_type": "stream",
     "text": [
      "Perturbing graph:  32%|██████████████████████████████████████████████████▌                                                                                                         | 82/253 [03:44<07:39,  2.69s/it]"
     ]
    },
    {
     "name": "stdout",
     "output_type": "stream",
     "text": [
      "GCN loss on unlabled data: 0.6489980220794678\n",
      "GCN acc on unlabled data: 0.8024139472507823\n",
      "attack loss: 0.3452218770980835\n"
     ]
    },
    {
     "name": "stderr",
     "output_type": "stream",
     "text": [
      "Perturbing graph:  33%|███████████████████████████████████████████████████▏                                                                                                        | 83/253 [03:47<07:33,  2.67s/it]"
     ]
    },
    {
     "name": "stdout",
     "output_type": "stream",
     "text": [
      "GCN loss on unlabled data: 0.674304187297821\n",
      "GCN acc on unlabled data: 0.7961555654894948\n",
      "attack loss: 0.364712119102478\n"
     ]
    },
    {
     "name": "stderr",
     "output_type": "stream",
     "text": [
      "Perturbing graph:  33%|███████████████████████████████████████████████████▊                                                                                                        | 84/253 [03:50<07:39,  2.72s/it]"
     ]
    },
    {
     "name": "stdout",
     "output_type": "stream",
     "text": [
      "GCN loss on unlabled data: 0.6807072162628174\n",
      "GCN acc on unlabled data: 0.8024139472507823\n",
      "attack loss: 0.35576725006103516\n"
     ]
    },
    {
     "name": "stderr",
     "output_type": "stream",
     "text": [
      "Perturbing graph:  34%|████████████████████████████████████████████████████▍                                                                                                       | 85/253 [03:53<07:33,  2.70s/it]"
     ]
    },
    {
     "name": "stdout",
     "output_type": "stream",
     "text": [
      "GCN loss on unlabled data: 0.6645631194114685\n",
      "GCN acc on unlabled data: 0.8019669199821189\n",
      "attack loss: 0.34320497512817383\n"
     ]
    },
    {
     "name": "stderr",
     "output_type": "stream",
     "text": [
      "Perturbing graph:  34%|█████████████████████████████████████████████████████                                                                                                       | 86/253 [03:55<07:25,  2.67s/it]"
     ]
    },
    {
     "name": "stdout",
     "output_type": "stream",
     "text": [
      "GCN loss on unlabled data: 0.6927622556686401\n",
      "GCN acc on unlabled data: 0.7930263746088512\n",
      "attack loss: 0.364938884973526\n"
     ]
    },
    {
     "name": "stderr",
     "output_type": "stream",
     "text": [
      "Perturbing graph:  34%|█████████████████████████████████████████████████████▋                                                                                                      | 87/253 [03:58<07:22,  2.66s/it]"
     ]
    },
    {
     "name": "stdout",
     "output_type": "stream",
     "text": [
      "GCN loss on unlabled data: 0.6554635167121887\n",
      "GCN acc on unlabled data: 0.8059901654000894\n",
      "attack loss: 0.3650481402873993\n"
     ]
    },
    {
     "name": "stderr",
     "output_type": "stream",
     "text": [
      "Perturbing graph:  35%|██████████████████████████████████████████████████████▎                                                                                                     | 88/253 [04:01<07:19,  2.66s/it]"
     ]
    },
    {
     "name": "stdout",
     "output_type": "stream",
     "text": [
      "GCN loss on unlabled data: 0.674440860748291\n",
      "GCN acc on unlabled data: 0.7934734018775146\n",
      "attack loss: 0.3435778319835663\n"
     ]
    },
    {
     "name": "stderr",
     "output_type": "stream",
     "text": [
      "Perturbing graph:  35%|██████████████████████████████████████████████████████▉                                                                                                     | 89/253 [04:03<07:16,  2.66s/it]"
     ]
    },
    {
     "name": "stdout",
     "output_type": "stream",
     "text": [
      "GCN loss on unlabled data: 0.7114790678024292\n",
      "GCN acc on unlabled data: 0.7943674564148413\n",
      "attack loss: 0.3559556305408478\n"
     ]
    },
    {
     "name": "stderr",
     "output_type": "stream",
     "text": [
      "Perturbing graph:  36%|███████████████████████████████████████████████████████▍                                                                                                    | 90/253 [04:06<07:12,  2.66s/it]"
     ]
    },
    {
     "name": "stdout",
     "output_type": "stream",
     "text": [
      "GCN loss on unlabled data: 0.665775716304779\n",
      "GCN acc on unlabled data: 0.8019669199821189\n",
      "attack loss: 0.3777537941932678\n"
     ]
    },
    {
     "name": "stderr",
     "output_type": "stream",
     "text": [
      "Perturbing graph:  36%|████████████████████████████████████████████████████████                                                                                                    | 91/253 [04:08<07:07,  2.64s/it]"
     ]
    },
    {
     "name": "stdout",
     "output_type": "stream",
     "text": [
      "GCN loss on unlabled data: 0.6618035435676575\n",
      "GCN acc on unlabled data: 0.8086723290120698\n",
      "attack loss: 0.3630349934101105\n"
     ]
    },
    {
     "name": "stderr",
     "output_type": "stream",
     "text": [
      "Perturbing graph:  36%|████████████████████████████████████████████████████████▋                                                                                                   | 92/253 [04:11<07:05,  2.65s/it]"
     ]
    },
    {
     "name": "stdout",
     "output_type": "stream",
     "text": [
      "GCN loss on unlabled data: 0.6736178398132324\n",
      "GCN acc on unlabled data: 0.7930263746088512\n",
      "attack loss: 0.3652050495147705\n"
     ]
    },
    {
     "name": "stderr",
     "output_type": "stream",
     "text": [
      "Perturbing graph:  37%|█████████████████████████████████████████████████████████▎                                                                                                  | 93/253 [04:14<07:08,  2.68s/it]"
     ]
    },
    {
     "name": "stdout",
     "output_type": "stream",
     "text": [
      "GCN loss on unlabled data: 0.6685326099395752\n",
      "GCN acc on unlabled data: 0.7952615109521681\n",
      "attack loss: 0.36765915155410767\n"
     ]
    },
    {
     "name": "stderr",
     "output_type": "stream",
     "text": [
      "Perturbing graph:  37%|█████████████████████████████████████████████████████████▉                                                                                                  | 94/253 [04:17<07:07,  2.69s/it]"
     ]
    },
    {
     "name": "stdout",
     "output_type": "stream",
     "text": [
      "GCN loss on unlabled data: 0.6591556072235107\n",
      "GCN acc on unlabled data: 0.8037550290567724\n",
      "attack loss: 0.35619446635246277\n"
     ]
    },
    {
     "name": "stderr",
     "output_type": "stream",
     "text": [
      "Perturbing graph:  38%|██████████████████████████████████████████████████████████▌                                                                                                 | 95/253 [04:19<07:02,  2.67s/it]"
     ]
    },
    {
     "name": "stdout",
     "output_type": "stream",
     "text": [
      "GCN loss on unlabled data: 0.6800700426101685\n",
      "GCN acc on unlabled data: 0.7970496200268217\n",
      "attack loss: 0.3766881227493286\n"
     ]
    },
    {
     "name": "stderr",
     "output_type": "stream",
     "text": [
      "Perturbing graph:  38%|███████████████████████████████████████████████████████████▏                                                                                                | 96/253 [04:22<07:00,  2.68s/it]"
     ]
    },
    {
     "name": "stdout",
     "output_type": "stream",
     "text": [
      "GCN loss on unlabled data: 0.6965880990028381\n",
      "GCN acc on unlabled data: 0.7881090746535538\n",
      "attack loss: 0.3891684114933014\n"
     ]
    },
    {
     "name": "stderr",
     "output_type": "stream",
     "text": [
      "Perturbing graph:  38%|███████████████████████████████████████████████████████████▊                                                                                                | 97/253 [04:25<06:58,  2.69s/it]"
     ]
    },
    {
     "name": "stdout",
     "output_type": "stream",
     "text": [
      "GCN loss on unlabled data: 0.6952461004257202\n",
      "GCN acc on unlabled data: 0.7997317836388019\n",
      "attack loss: 0.3772692084312439\n"
     ]
    },
    {
     "name": "stderr",
     "output_type": "stream",
     "text": [
      "Perturbing graph:  39%|████████████████████████████████████████████████████████████▍                                                                                               | 98/253 [04:27<06:54,  2.67s/it]"
     ]
    },
    {
     "name": "stdout",
     "output_type": "stream",
     "text": [
      "GCN loss on unlabled data: 0.6754969954490662\n",
      "GCN acc on unlabled data: 0.7925793473401878\n",
      "attack loss: 0.35543495416641235\n"
     ]
    },
    {
     "name": "stderr",
     "output_type": "stream",
     "text": [
      "Perturbing graph:  39%|█████████████████████████████████████████████████████████████                                                                                               | 99/253 [04:30<06:50,  2.66s/it]"
     ]
    },
    {
     "name": "stdout",
     "output_type": "stream",
     "text": [
      "GCN loss on unlabled data: 0.6919668316841125\n",
      "GCN acc on unlabled data: 0.7916852928028609\n",
      "attack loss: 0.37676823139190674\n"
     ]
    },
    {
     "name": "stderr",
     "output_type": "stream",
     "text": [
      "Perturbing graph:  40%|█████████████████████████████████████████████████████████████▎                                                                                             | 100/253 [04:33<06:46,  2.66s/it]"
     ]
    },
    {
     "name": "stdout",
     "output_type": "stream",
     "text": [
      "GCN loss on unlabled data: 0.7237144112586975\n",
      "GCN acc on unlabled data: 0.7872150201162271\n",
      "attack loss: 0.3812161386013031\n"
     ]
    },
    {
     "name": "stderr",
     "output_type": "stream",
     "text": [
      "Perturbing graph:  40%|█████████████████████████████████████████████████████████████▉                                                                                             | 101/253 [04:35<06:45,  2.67s/it]"
     ]
    },
    {
     "name": "stdout",
     "output_type": "stream",
     "text": [
      "GCN loss on unlabled data: 0.7053801417350769\n",
      "GCN acc on unlabled data: 0.797496647295485\n",
      "attack loss: 0.3809984028339386\n"
     ]
    },
    {
     "name": "stderr",
     "output_type": "stream",
     "text": [
      "Perturbing graph:  40%|██████████████████████████████████████████████████████████████▍                                                                                            | 102/253 [04:38<06:41,  2.66s/it]"
     ]
    },
    {
     "name": "stdout",
     "output_type": "stream",
     "text": [
      "GCN loss on unlabled data: 0.7182636260986328\n",
      "GCN acc on unlabled data: 0.7890031291908807\n",
      "attack loss: 0.4029408097267151\n"
     ]
    },
    {
     "name": "stderr",
     "output_type": "stream",
     "text": [
      "Perturbing graph:  41%|███████████████████████████████████████████████████████████████                                                                                            | 103/253 [04:40<06:38,  2.66s/it]"
     ]
    },
    {
     "name": "stdout",
     "output_type": "stream",
     "text": [
      "GCN loss on unlabled data: 0.7061293125152588\n",
      "GCN acc on unlabled data: 0.7943674564148413\n",
      "attack loss: 0.3834211230278015\n"
     ]
    },
    {
     "name": "stderr",
     "output_type": "stream",
     "text": [
      "Perturbing graph:  41%|███████████████████████████████████████████████████████████████▋                                                                                           | 104/253 [04:43<06:36,  2.66s/it]"
     ]
    },
    {
     "name": "stdout",
     "output_type": "stream",
     "text": [
      "GCN loss on unlabled data: 0.7212330102920532\n",
      "GCN acc on unlabled data: 0.7903442109968708\n",
      "attack loss: 0.3822963237762451\n"
     ]
    },
    {
     "name": "stderr",
     "output_type": "stream",
     "text": [
      "Perturbing graph:  42%|████████████████████████████████████████████████████████████████▎                                                                                          | 105/253 [04:46<06:33,  2.66s/it]"
     ]
    },
    {
     "name": "stdout",
     "output_type": "stream",
     "text": [
      "GCN loss on unlabled data: 0.682094395160675\n",
      "GCN acc on unlabled data: 0.8028609745194457\n",
      "attack loss: 0.3694850206375122\n"
     ]
    },
    {
     "name": "stderr",
     "output_type": "stream",
     "text": [
      "Perturbing graph:  42%|████████████████████████████████████████████████████████████████▉                                                                                          | 106/253 [04:48<06:31,  2.66s/it]"
     ]
    },
    {
     "name": "stdout",
     "output_type": "stream",
     "text": [
      "GCN loss on unlabled data: 0.6730884313583374\n",
      "GCN acc on unlabled data: 0.8010728654447922\n",
      "attack loss: 0.3783702552318573\n"
     ]
    },
    {
     "name": "stderr",
     "output_type": "stream",
     "text": [
      "Perturbing graph:  42%|█████████████████████████████████████████████████████████████████▌                                                                                         | 107/253 [04:51<06:29,  2.67s/it]"
     ]
    },
    {
     "name": "stdout",
     "output_type": "stream",
     "text": [
      "GCN loss on unlabled data: 0.6987425684928894\n",
      "GCN acc on unlabled data: 0.7979436745641484\n",
      "attack loss: 0.38270893692970276\n"
     ]
    },
    {
     "name": "stderr",
     "output_type": "stream",
     "text": [
      "Perturbing graph:  43%|██████████████████████████████████████████████████████████████████▏                                                                                        | 108/253 [04:54<06:26,  2.67s/it]"
     ]
    },
    {
     "name": "stdout",
     "output_type": "stream",
     "text": [
      "GCN loss on unlabled data: 0.6784691214561462\n",
      "GCN acc on unlabled data: 0.8050961108627627\n",
      "attack loss: 0.3788195848464966\n"
     ]
    },
    {
     "name": "stderr",
     "output_type": "stream",
     "text": [
      "Perturbing graph:  43%|██████████████████████████████████████████████████████████████████▊                                                                                        | 109/253 [04:56<06:22,  2.66s/it]"
     ]
    },
    {
     "name": "stdout",
     "output_type": "stream",
     "text": [
      "GCN loss on unlabled data: 0.6878243088722229\n",
      "GCN acc on unlabled data: 0.7992847563701386\n",
      "attack loss: 0.380736768245697\n"
     ]
    },
    {
     "name": "stderr",
     "output_type": "stream",
     "text": [
      "Perturbing graph:  43%|███████████████████████████████████████████████████████████████████▍                                                                                       | 110/253 [04:59<06:17,  2.64s/it]"
     ]
    },
    {
     "name": "stdout",
     "output_type": "stream",
     "text": [
      "GCN loss on unlabled data: 0.7101854085922241\n",
      "GCN acc on unlabled data: 0.7822977201609298\n",
      "attack loss: 0.3776335120201111\n"
     ]
    },
    {
     "name": "stderr",
     "output_type": "stream",
     "text": [
      "Perturbing graph:  44%|████████████████████████████████████████████████████████████████████                                                                                       | 111/253 [05:02<06:16,  2.65s/it]"
     ]
    },
    {
     "name": "stdout",
     "output_type": "stream",
     "text": [
      "GCN loss on unlabled data: 0.6761042475700378\n",
      "GCN acc on unlabled data: 0.7961555654894948\n",
      "attack loss: 0.3795957565307617\n"
     ]
    },
    {
     "name": "stderr",
     "output_type": "stream",
     "text": [
      "Perturbing graph:  44%|████████████████████████████████████████████████████████████████████▌                                                                                      | 112/253 [05:04<06:16,  2.67s/it]"
     ]
    },
    {
     "name": "stdout",
     "output_type": "stream",
     "text": [
      "GCN loss on unlabled data: 0.7160605192184448\n",
      "GCN acc on unlabled data: 0.7916852928028609\n",
      "attack loss: 0.38389769196510315\n"
     ]
    },
    {
     "name": "stderr",
     "output_type": "stream",
     "text": [
      "Perturbing graph:  45%|█████████████████████████████████████████████████████████████████████▏                                                                                     | 113/253 [05:07<06:11,  2.65s/it]"
     ]
    },
    {
     "name": "stdout",
     "output_type": "stream",
     "text": [
      "GCN loss on unlabled data: 0.7371925115585327\n",
      "GCN acc on unlabled data: 0.7881090746535538\n",
      "attack loss: 0.41202977299690247\n"
     ]
    },
    {
     "name": "stderr",
     "output_type": "stream",
     "text": [
      "Perturbing graph:  45%|█████████████████████████████████████████████████████████████████████▊                                                                                     | 114/253 [05:10<06:08,  2.65s/it]"
     ]
    },
    {
     "name": "stdout",
     "output_type": "stream",
     "text": [
      "GCN loss on unlabled data: 0.7311347126960754\n",
      "GCN acc on unlabled data: 0.7970496200268217\n",
      "attack loss: 0.3992438316345215\n"
     ]
    },
    {
     "name": "stderr",
     "output_type": "stream",
     "text": [
      "Perturbing graph:  45%|██████████████████████████████████████████████████████████████████████▍                                                                                    | 115/253 [05:12<06:06,  2.66s/it]"
     ]
    },
    {
     "name": "stdout",
     "output_type": "stream",
     "text": [
      "GCN loss on unlabled data: 0.7202155590057373\n",
      "GCN acc on unlabled data: 0.7849798837729102\n",
      "attack loss: 0.40582072734832764\n"
     ]
    },
    {
     "name": "stderr",
     "output_type": "stream",
     "text": [
      "Perturbing graph:  46%|███████████████████████████████████████████████████████████████████████                                                                                    | 116/253 [05:15<06:03,  2.65s/it]"
     ]
    },
    {
     "name": "stdout",
     "output_type": "stream",
     "text": [
      "GCN loss on unlabled data: 0.7691867351531982\n",
      "GCN acc on unlabled data: 0.7800625838176128\n",
      "attack loss: 0.4075359106063843\n"
     ]
    },
    {
     "name": "stderr",
     "output_type": "stream",
     "text": [
      "Perturbing graph:  46%|███████████████████████████████████████████████████████████████████████▋                                                                                   | 117/253 [05:18<05:59,  2.64s/it]"
     ]
    },
    {
     "name": "stdout",
     "output_type": "stream",
     "text": [
      "GCN loss on unlabled data: 0.7628205418586731\n",
      "GCN acc on unlabled data: 0.7916852928028609\n",
      "attack loss: 0.39584535360336304\n"
     ]
    },
    {
     "name": "stderr",
     "output_type": "stream",
     "text": [
      "Perturbing graph:  47%|████████████████████████████████████████████████████████████████████████▎                                                                                  | 118/253 [05:20<05:57,  2.65s/it]"
     ]
    },
    {
     "name": "stdout",
     "output_type": "stream",
     "text": [
      "GCN loss on unlabled data: 0.7411274909973145\n",
      "GCN acc on unlabled data: 0.7903442109968708\n",
      "attack loss: 0.41926056146621704\n"
     ]
    },
    {
     "name": "stderr",
     "output_type": "stream",
     "text": [
      "Perturbing graph:  47%|████████████████████████████████████████████████████████████████████████▉                                                                                  | 119/253 [05:23<05:55,  2.65s/it]"
     ]
    },
    {
     "name": "stdout",
     "output_type": "stream",
     "text": [
      "GCN loss on unlabled data: 0.7498084902763367\n",
      "GCN acc on unlabled data: 0.7849798837729102\n",
      "attack loss: 0.4061412215232849\n"
     ]
    },
    {
     "name": "stderr",
     "output_type": "stream",
     "text": [
      "Perturbing graph:  47%|█████████████████████████████████████████████████████████████████████████▌                                                                                 | 120/253 [05:26<05:52,  2.65s/it]"
     ]
    },
    {
     "name": "stdout",
     "output_type": "stream",
     "text": [
      "GCN loss on unlabled data: 0.7345564365386963\n",
      "GCN acc on unlabled data: 0.7854269110415736\n",
      "attack loss: 0.40741926431655884\n"
     ]
    },
    {
     "name": "stderr",
     "output_type": "stream",
     "text": [
      "Perturbing graph:  48%|██████████████████████████████████████████████████████████████████████████▏                                                                                | 121/253 [05:28<05:48,  2.64s/it]"
     ]
    },
    {
     "name": "stdout",
     "output_type": "stream",
     "text": [
      "GCN loss on unlabled data: 0.7058104872703552\n",
      "GCN acc on unlabled data: 0.7890031291908807\n",
      "attack loss: 0.39668959379196167\n"
     ]
    },
    {
     "name": "stderr",
     "output_type": "stream",
     "text": [
      "Perturbing graph:  48%|██████████████████████████████████████████████████████████████████████████▋                                                                                | 122/253 [05:31<05:45,  2.64s/it]"
     ]
    },
    {
     "name": "stdout",
     "output_type": "stream",
     "text": [
      "GCN loss on unlabled data: 0.7224581837654114\n",
      "GCN acc on unlabled data: 0.7845328565042468\n",
      "attack loss: 0.3880402147769928\n"
     ]
    },
    {
     "name": "stderr",
     "output_type": "stream",
     "text": [
      "Perturbing graph:  49%|███████████████████████████████████████████████████████████████████████████▎                                                                               | 123/253 [05:33<05:43,  2.64s/it]"
     ]
    },
    {
     "name": "stdout",
     "output_type": "stream",
     "text": [
      "GCN loss on unlabled data: 0.7869299650192261\n",
      "GCN acc on unlabled data: 0.7778274474742959\n",
      "attack loss: 0.4388161897659302\n"
     ]
    },
    {
     "name": "stderr",
     "output_type": "stream",
     "text": [
      "Perturbing graph:  49%|███████████████████████████████████████████████████████████████████████████▉                                                                               | 124/253 [05:36<05:41,  2.65s/it]"
     ]
    },
    {
     "name": "stdout",
     "output_type": "stream",
     "text": [
      "GCN loss on unlabled data: 0.7478094696998596\n",
      "GCN acc on unlabled data: 0.7760393383996423\n",
      "attack loss: 0.4019922912120819\n"
     ]
    },
    {
     "name": "stderr",
     "output_type": "stream",
     "text": [
      "Perturbing graph:  49%|████████████████████████████████████████████████████████████████████████████▌                                                                              | 125/253 [05:39<05:38,  2.65s/it]"
     ]
    },
    {
     "name": "stdout",
     "output_type": "stream",
     "text": [
      "GCN loss on unlabled data: 0.7534826993942261\n",
      "GCN acc on unlabled data: 0.7840858292355833\n",
      "attack loss: 0.4049917459487915\n"
     ]
    },
    {
     "name": "stderr",
     "output_type": "stream",
     "text": [
      "Perturbing graph:  50%|█████████████████████████████████████████████████████████████████████████████▏                                                                             | 126/253 [05:41<05:36,  2.65s/it]"
     ]
    },
    {
     "name": "stdout",
     "output_type": "stream",
     "text": [
      "GCN loss on unlabled data: 0.7682788372039795\n",
      "GCN acc on unlabled data: 0.7787215020116227\n",
      "attack loss: 0.40078598260879517\n"
     ]
    },
    {
     "name": "stderr",
     "output_type": "stream",
     "text": [
      "Perturbing graph:  50%|█████████████████████████████████████████████████████████████████████████████▊                                                                             | 127/253 [05:44<05:33,  2.64s/it]"
     ]
    },
    {
     "name": "stdout",
     "output_type": "stream",
     "text": [
      "GCN loss on unlabled data: 0.7456154823303223\n",
      "GCN acc on unlabled data: 0.7921323200715243\n",
      "attack loss: 0.4089658260345459\n"
     ]
    },
    {
     "name": "stderr",
     "output_type": "stream",
     "text": [
      "Perturbing graph:  51%|██████████████████████████████████████████████████████████████████████████████▍                                                                            | 128/253 [05:47<05:31,  2.65s/it]"
     ]
    },
    {
     "name": "stdout",
     "output_type": "stream",
     "text": [
      "GCN loss on unlabled data: 0.7323952317237854\n",
      "GCN acc on unlabled data: 0.797496647295485\n",
      "attack loss: 0.4030560553073883\n"
     ]
    },
    {
     "name": "stderr",
     "output_type": "stream",
     "text": [
      "Perturbing graph:  51%|███████████████████████████████████████████████████████████████████████████████                                                                            | 129/253 [05:49<05:30,  2.67s/it]"
     ]
    },
    {
     "name": "stdout",
     "output_type": "stream",
     "text": [
      "GCN loss on unlabled data: 0.7479496598243713\n",
      "GCN acc on unlabled data: 0.7863209655789003\n",
      "attack loss: 0.40969496965408325\n"
     ]
    },
    {
     "name": "stderr",
     "output_type": "stream",
     "text": [
      "Perturbing graph:  51%|███████████████████████████████████████████████████████████████████████████████▋                                                                           | 130/253 [05:52<05:27,  2.67s/it]"
     ]
    },
    {
     "name": "stdout",
     "output_type": "stream",
     "text": [
      "GCN loss on unlabled data: 0.7565712332725525\n",
      "GCN acc on unlabled data: 0.7840858292355833\n",
      "attack loss: 0.4330228269100189\n"
     ]
    },
    {
     "name": "stderr",
     "output_type": "stream",
     "text": [
      "Perturbing graph:  52%|████████████████████████████████████████████████████████████████████████████████▎                                                                          | 131/253 [05:55<05:26,  2.68s/it]"
     ]
    },
    {
     "name": "stdout",
     "output_type": "stream",
     "text": [
      "GCN loss on unlabled data: 0.7025613188743591\n",
      "GCN acc on unlabled data: 0.7809566383549397\n",
      "attack loss: 0.4108855724334717\n"
     ]
    },
    {
     "name": "stderr",
     "output_type": "stream",
     "text": [
      "Perturbing graph:  52%|████████████████████████████████████████████████████████████████████████████████▊                                                                          | 132/253 [05:57<05:23,  2.67s/it]"
     ]
    },
    {
     "name": "stdout",
     "output_type": "stream",
     "text": [
      "GCN loss on unlabled data: 0.768467903137207\n",
      "GCN acc on unlabled data: 0.7845328565042468\n",
      "attack loss: 0.427150160074234\n"
     ]
    },
    {
     "name": "stderr",
     "output_type": "stream",
     "text": [
      "Perturbing graph:  53%|█████████████████████████████████████████████████████████████████████████████████▍                                                                         | 133/253 [06:00<05:19,  2.66s/it]"
     ]
    },
    {
     "name": "stdout",
     "output_type": "stream",
     "text": [
      "GCN loss on unlabled data: 0.8001903891563416\n",
      "GCN acc on unlabled data: 0.7715690657130085\n",
      "attack loss: 0.4416270852088928\n"
     ]
    },
    {
     "name": "stderr",
     "output_type": "stream",
     "text": [
      "Perturbing graph:  53%|██████████████████████████████████████████████████████████████████████████████████                                                                         | 134/253 [06:03<05:16,  2.66s/it]"
     ]
    },
    {
     "name": "stdout",
     "output_type": "stream",
     "text": [
      "GCN loss on unlabled data: 0.7517129182815552\n",
      "GCN acc on unlabled data: 0.7876620473848904\n",
      "attack loss: 0.40506836771965027\n"
     ]
    },
    {
     "name": "stderr",
     "output_type": "stream",
     "text": [
      "Perturbing graph:  53%|██████████████████████████████████████████████████████████████████████████████████▋                                                                        | 135/253 [06:05<05:14,  2.66s/it]"
     ]
    },
    {
     "name": "stdout",
     "output_type": "stream",
     "text": [
      "GCN loss on unlabled data: 0.7798776030540466\n",
      "GCN acc on unlabled data: 0.7881090746535538\n",
      "attack loss: 0.42698296904563904\n"
     ]
    },
    {
     "name": "stderr",
     "output_type": "stream",
     "text": [
      "Perturbing graph:  54%|███████████████████████████████████████████████████████████████████████████████████▎                                                                       | 136/253 [06:08<05:09,  2.65s/it]"
     ]
    },
    {
     "name": "stdout",
     "output_type": "stream",
     "text": [
      "GCN loss on unlabled data: 0.7610317468643188\n",
      "GCN acc on unlabled data: 0.7715690657130085\n",
      "attack loss: 0.412832111120224\n"
     ]
    },
    {
     "name": "stderr",
     "output_type": "stream",
     "text": [
      "Perturbing graph:  54%|███████████████████████████████████████████████████████████████████████████████████▉                                                                       | 137/253 [06:11<05:06,  2.64s/it]"
     ]
    },
    {
     "name": "stdout",
     "output_type": "stream",
     "text": [
      "GCN loss on unlabled data: 0.7508382201194763\n",
      "GCN acc on unlabled data: 0.7840858292355833\n",
      "attack loss: 0.4272785186767578\n"
     ]
    },
    {
     "name": "stderr",
     "output_type": "stream",
     "text": [
      "Perturbing graph:  55%|████████████████████████████████████████████████████████████████████████████████████▌                                                                      | 138/253 [06:13<05:02,  2.63s/it]"
     ]
    },
    {
     "name": "stdout",
     "output_type": "stream",
     "text": [
      "GCN loss on unlabled data: 0.792922854423523\n",
      "GCN acc on unlabled data: 0.7724631202503353\n",
      "attack loss: 0.4454745054244995\n"
     ]
    },
    {
     "name": "stderr",
     "output_type": "stream",
     "text": [
      "Perturbing graph:  55%|█████████████████████████████████████████████████████████████████████████████████████▏                                                                     | 139/253 [06:16<04:59,  2.62s/it]"
     ]
    },
    {
     "name": "stdout",
     "output_type": "stream",
     "text": [
      "GCN loss on unlabled data: 0.7755870819091797\n",
      "GCN acc on unlabled data: 0.7845328565042468\n",
      "attack loss: 0.4179264307022095\n"
     ]
    },
    {
     "name": "stderr",
     "output_type": "stream",
     "text": [
      "Perturbing graph:  55%|█████████████████████████████████████████████████████████████████████████████████████▊                                                                     | 140/253 [06:19<04:57,  2.63s/it]"
     ]
    },
    {
     "name": "stdout",
     "output_type": "stream",
     "text": [
      "GCN loss on unlabled data: 0.7915892601013184\n",
      "GCN acc on unlabled data: 0.7805096110862763\n",
      "attack loss: 0.43846768140792847\n"
     ]
    },
    {
     "name": "stderr",
     "output_type": "stream",
     "text": [
      "Perturbing graph:  56%|██████████████████████████████████████████████████████████████████████████████████████▍                                                                    | 141/253 [06:21<04:57,  2.65s/it]"
     ]
    },
    {
     "name": "stdout",
     "output_type": "stream",
     "text": [
      "GCN loss on unlabled data: 0.7550322413444519\n",
      "GCN acc on unlabled data: 0.7782744747429593\n",
      "attack loss: 0.41103261709213257\n"
     ]
    },
    {
     "name": "stderr",
     "output_type": "stream",
     "text": [
      "Perturbing graph:  56%|██████████████████████████████████████████████████████████████████████████████████████▉                                                                    | 142/253 [06:24<04:55,  2.66s/it]"
     ]
    },
    {
     "name": "stdout",
     "output_type": "stream",
     "text": [
      "GCN loss on unlabled data: 0.7867760062217712\n",
      "GCN acc on unlabled data: 0.7738042020563254\n",
      "attack loss: 0.4310106635093689\n"
     ]
    },
    {
     "name": "stderr",
     "output_type": "stream",
     "text": [
      "Perturbing graph:  57%|███████████████████████████████████████████████████████████████████████████████████████▌                                                                   | 143/253 [06:27<04:53,  2.67s/it]"
     ]
    },
    {
     "name": "stdout",
     "output_type": "stream",
     "text": [
      "GCN loss on unlabled data: 0.7430121898651123\n",
      "GCN acc on unlabled data: 0.7930263746088512\n",
      "attack loss: 0.4187583923339844\n"
     ]
    },
    {
     "name": "stderr",
     "output_type": "stream",
     "text": [
      "Perturbing graph:  57%|████████████████████████████████████████████████████████████████████████████████████████▏                                                                  | 144/253 [06:29<04:51,  2.67s/it]"
     ]
    },
    {
     "name": "stdout",
     "output_type": "stream",
     "text": [
      "GCN loss on unlabled data: 0.8018795847892761\n",
      "GCN acc on unlabled data: 0.7648636566830577\n",
      "attack loss: 0.43995463848114014\n"
     ]
    },
    {
     "name": "stderr",
     "output_type": "stream",
     "text": [
      "Perturbing graph:  57%|████████████████████████████████████████████████████████████████████████████████████████▊                                                                  | 145/253 [06:32<04:49,  2.68s/it]"
     ]
    },
    {
     "name": "stdout",
     "output_type": "stream",
     "text": [
      "GCN loss on unlabled data: 0.7916237115859985\n",
      "GCN acc on unlabled data: 0.7800625838176128\n",
      "attack loss: 0.4525134861469269\n"
     ]
    },
    {
     "name": "stderr",
     "output_type": "stream",
     "text": [
      "Perturbing graph:  58%|█████████████████████████████████████████████████████████████████████████████████████████▍                                                                 | 146/253 [06:35<04:50,  2.71s/it]"
     ]
    },
    {
     "name": "stdout",
     "output_type": "stream",
     "text": [
      "GCN loss on unlabled data: 0.8092163801193237\n",
      "GCN acc on unlabled data: 0.7693339293696916\n",
      "attack loss: 0.44483664631843567\n"
     ]
    },
    {
     "name": "stderr",
     "output_type": "stream",
     "text": [
      "Perturbing graph:  58%|██████████████████████████████████████████████████████████████████████████████████████████                                                                 | 147/253 [06:38<04:55,  2.79s/it]"
     ]
    },
    {
     "name": "stdout",
     "output_type": "stream",
     "text": [
      "GCN loss on unlabled data: 0.8057409524917603\n",
      "GCN acc on unlabled data: 0.7702279839070183\n",
      "attack loss: 0.4402821660041809\n"
     ]
    },
    {
     "name": "stderr",
     "output_type": "stream",
     "text": [
      "Perturbing graph:  58%|██████████████████████████████████████████████████████████████████████████████████████████▋                                                                | 148/253 [06:41<04:51,  2.78s/it]"
     ]
    },
    {
     "name": "stdout",
     "output_type": "stream",
     "text": [
      "GCN loss on unlabled data: 0.8323073387145996\n",
      "GCN acc on unlabled data: 0.7662047384890478\n",
      "attack loss: 0.46348559856414795\n"
     ]
    },
    {
     "name": "stderr",
     "output_type": "stream",
     "text": [
      "Perturbing graph:  59%|███████████████████████████████████████████████████████████████████████████████████████████▎                                                               | 149/253 [06:43<04:51,  2.80s/it]"
     ]
    },
    {
     "name": "stdout",
     "output_type": "stream",
     "text": [
      "GCN loss on unlabled data: 0.7873930931091309\n",
      "GCN acc on unlabled data: 0.7724631202503353\n",
      "attack loss: 0.4380095899105072\n"
     ]
    },
    {
     "name": "stderr",
     "output_type": "stream",
     "text": [
      "Perturbing graph:  59%|███████████████████████████████████████████████████████████████████████████████████████████▉                                                               | 150/253 [06:46<04:44,  2.77s/it]"
     ]
    },
    {
     "name": "stdout",
     "output_type": "stream",
     "text": [
      "GCN loss on unlabled data: 0.7701083421707153\n",
      "GCN acc on unlabled data: 0.775592311130979\n",
      "attack loss: 0.45052099227905273\n"
     ]
    },
    {
     "name": "stderr",
     "output_type": "stream",
     "text": [
      "Perturbing graph:  60%|████████████████████████████████████████████████████████████████████████████████████████████▌                                                              | 151/253 [06:49<04:40,  2.75s/it]"
     ]
    },
    {
     "name": "stdout",
     "output_type": "stream",
     "text": [
      "GCN loss on unlabled data: 0.8186805248260498\n",
      "GCN acc on unlabled data: 0.7684398748323648\n",
      "attack loss: 0.45558759570121765\n"
     ]
    },
    {
     "name": "stderr",
     "output_type": "stream",
     "text": [
      "Perturbing graph:  60%|█████████████████████████████████████████████████████████████████████████████████████████████                                                              | 152/253 [06:51<04:36,  2.73s/it]"
     ]
    },
    {
     "name": "stdout",
     "output_type": "stream",
     "text": [
      "GCN loss on unlabled data: 0.7597530484199524\n",
      "GCN acc on unlabled data: 0.7894501564595441\n",
      "attack loss: 0.42838525772094727\n"
     ]
    },
    {
     "name": "stderr",
     "output_type": "stream",
     "text": [
      "Perturbing graph:  60%|█████████████████████████████████████████████████████████████████████████████████████████████▋                                                             | 153/253 [06:54<04:31,  2.72s/it]"
     ]
    },
    {
     "name": "stdout",
     "output_type": "stream",
     "text": [
      "GCN loss on unlabled data: 0.8138894438743591\n",
      "GCN acc on unlabled data: 0.7764863656683058\n",
      "attack loss: 0.4489143490791321\n"
     ]
    },
    {
     "name": "stderr",
     "output_type": "stream",
     "text": [
      "Perturbing graph:  61%|██████████████████████████████████████████████████████████████████████████████████████████████▎                                                            | 154/253 [06:57<04:27,  2.70s/it]"
     ]
    },
    {
     "name": "stdout",
     "output_type": "stream",
     "text": [
      "GCN loss on unlabled data: 0.8053568601608276\n",
      "GCN acc on unlabled data: 0.7715690657130085\n",
      "attack loss: 0.4480879604816437\n"
     ]
    },
    {
     "name": "stderr",
     "output_type": "stream",
     "text": [
      "Perturbing graph:  61%|██████████████████████████████████████████████████████████████████████████████████████████████▉                                                            | 155/253 [06:59<04:23,  2.69s/it]"
     ]
    },
    {
     "name": "stdout",
     "output_type": "stream",
     "text": [
      "GCN loss on unlabled data: 0.777194619178772\n",
      "GCN acc on unlabled data: 0.7872150201162271\n",
      "attack loss: 0.4462343454360962\n"
     ]
    },
    {
     "name": "stderr",
     "output_type": "stream",
     "text": [
      "Perturbing graph:  62%|███████████████████████████████████████████████████████████████████████████████████████████████▌                                                           | 156/253 [07:02<04:19,  2.68s/it]"
     ]
    },
    {
     "name": "stdout",
     "output_type": "stream",
     "text": [
      "GCN loss on unlabled data: 0.7706495523452759\n",
      "GCN acc on unlabled data: 0.775592311130979\n",
      "attack loss: 0.42126208543777466\n"
     ]
    },
    {
     "name": "stderr",
     "output_type": "stream",
     "text": [
      "Perturbing graph:  62%|████████████████████████████████████████████████████████████████████████████████████████████████▏                                                          | 157/253 [07:05<04:19,  2.70s/it]"
     ]
    },
    {
     "name": "stdout",
     "output_type": "stream",
     "text": [
      "GCN loss on unlabled data: 0.7768818140029907\n",
      "GCN acc on unlabled data: 0.7845328565042468\n",
      "attack loss: 0.4485778510570526\n"
     ]
    },
    {
     "name": "stderr",
     "output_type": "stream",
     "text": [
      "Perturbing graph:  62%|████████████████████████████████████████████████████████████████████████████████████████████████▊                                                          | 158/253 [07:08<04:15,  2.69s/it]"
     ]
    },
    {
     "name": "stdout",
     "output_type": "stream",
     "text": [
      "GCN loss on unlabled data: 0.7879953980445862\n",
      "GCN acc on unlabled data: 0.7822977201609298\n",
      "attack loss: 0.4449499845504761\n"
     ]
    },
    {
     "name": "stderr",
     "output_type": "stream",
     "text": [
      "Perturbing graph:  63%|█████████████████████████████████████████████████████████████████████████████████████████████████▍                                                         | 159/253 [07:10<04:11,  2.68s/it]"
     ]
    },
    {
     "name": "stdout",
     "output_type": "stream",
     "text": [
      "GCN loss on unlabled data: 0.8472447395324707\n",
      "GCN acc on unlabled data: 0.7644166294143943\n",
      "attack loss: 0.4555462598800659\n"
     ]
    },
    {
     "name": "stderr",
     "output_type": "stream",
     "text": [
      "Perturbing graph:  63%|██████████████████████████████████████████████████████████████████████████████████████████████████                                                         | 160/253 [07:13<04:11,  2.71s/it]"
     ]
    },
    {
     "name": "stdout",
     "output_type": "stream",
     "text": [
      "GCN loss on unlabled data: 0.806440532207489\n",
      "GCN acc on unlabled data: 0.7711220384443451\n",
      "attack loss: 0.452853798866272\n"
     ]
    },
    {
     "name": "stderr",
     "output_type": "stream",
     "text": [
      "Perturbing graph:  64%|██████████████████████████████████████████████████████████████████████████████████████████████████▋                                                        | 161/253 [07:16<04:08,  2.70s/it]"
     ]
    },
    {
     "name": "stdout",
     "output_type": "stream",
     "text": [
      "GCN loss on unlabled data: 0.8209907412528992\n",
      "GCN acc on unlabled data: 0.7764863656683058\n",
      "attack loss: 0.45255300402641296\n"
     ]
    },
    {
     "name": "stderr",
     "output_type": "stream",
     "text": [
      "Perturbing graph:  64%|███████████████████████████████████████████████████████████████████████████████████████████████████▏                                                       | 162/253 [07:18<04:03,  2.67s/it]"
     ]
    },
    {
     "name": "stdout",
     "output_type": "stream",
     "text": [
      "GCN loss on unlabled data: 0.8334128856658936\n",
      "GCN acc on unlabled data: 0.7715690657130085\n",
      "attack loss: 0.44493842124938965\n"
     ]
    },
    {
     "name": "stderr",
     "output_type": "stream",
     "text": [
      "Perturbing graph:  64%|███████████████████████████████████████████████████████████████████████████████████████████████████▊                                                       | 163/253 [07:21<03:59,  2.66s/it]"
     ]
    },
    {
     "name": "stdout",
     "output_type": "stream",
     "text": [
      "GCN loss on unlabled data: 0.850618302822113\n",
      "GCN acc on unlabled data: 0.7702279839070183\n",
      "attack loss: 0.4550288915634155\n"
     ]
    },
    {
     "name": "stderr",
     "output_type": "stream",
     "text": [
      "Perturbing graph:  65%|████████████████████████████████████████████████████████████████████████████████████████████████████▍                                                      | 164/253 [07:24<03:56,  2.66s/it]"
     ]
    },
    {
     "name": "stdout",
     "output_type": "stream",
     "text": [
      "GCN loss on unlabled data: 0.8580486178398132\n",
      "GCN acc on unlabled data: 0.7720160929816718\n",
      "attack loss: 0.4444621801376343\n"
     ]
    },
    {
     "name": "stderr",
     "output_type": "stream",
     "text": [
      "Perturbing graph:  65%|█████████████████████████████████████████████████████████████████████████████████████████████████████                                                      | 165/253 [07:26<03:55,  2.67s/it]"
     ]
    },
    {
     "name": "stdout",
     "output_type": "stream",
     "text": [
      "GCN loss on unlabled data: 0.8205885291099548\n",
      "GCN acc on unlabled data: 0.7724631202503353\n",
      "attack loss: 0.4596174359321594\n"
     ]
    },
    {
     "name": "stderr",
     "output_type": "stream",
     "text": [
      "Perturbing graph:  66%|█████████████████████████████████████████████████████████████████████████████████████████████████████▋                                                     | 166/253 [07:29<03:55,  2.71s/it]"
     ]
    },
    {
     "name": "stdout",
     "output_type": "stream",
     "text": [
      "GCN loss on unlabled data: 0.8299506306648254\n",
      "GCN acc on unlabled data: 0.7697809566383549\n",
      "attack loss: 0.4592321515083313\n"
     ]
    },
    {
     "name": "stderr",
     "output_type": "stream",
     "text": [
      "Perturbing graph:  66%|██████████████████████████████████████████████████████████████████████████████████████████████████████▎                                                    | 167/253 [07:32<03:53,  2.72s/it]"
     ]
    },
    {
     "name": "stdout",
     "output_type": "stream",
     "text": [
      "GCN loss on unlabled data: 0.8116610646247864\n",
      "GCN acc on unlabled data: 0.7666517657577112\n",
      "attack loss: 0.4662669599056244\n"
     ]
    },
    {
     "name": "stderr",
     "output_type": "stream",
     "text": [
      "Perturbing graph:  66%|██████████████████████████████████████████████████████████████████████████████████████████████████████▉                                                    | 168/253 [07:35<03:51,  2.72s/it]"
     ]
    },
    {
     "name": "stdout",
     "output_type": "stream",
     "text": [
      "GCN loss on unlabled data: 0.8432704210281372\n",
      "GCN acc on unlabled data: 0.7644166294143943\n",
      "attack loss: 0.477042019367218\n"
     ]
    },
    {
     "name": "stderr",
     "output_type": "stream",
     "text": [
      "Perturbing graph:  67%|███████████████████████████████████████████████████████████████████████████████████████████████████████▌                                                   | 169/253 [07:37<03:50,  2.75s/it]"
     ]
    },
    {
     "name": "stdout",
     "output_type": "stream",
     "text": [
      "GCN loss on unlabled data: 0.8514203429222107\n",
      "GCN acc on unlabled data: 0.7577112203844435\n",
      "attack loss: 0.46584466099739075\n"
     ]
    },
    {
     "name": "stderr",
     "output_type": "stream",
     "text": [
      "Perturbing graph:  67%|████████████████████████████████████████████████████████████████████████████████████████████████████████▏                                                  | 170/253 [07:40<03:46,  2.73s/it]"
     ]
    },
    {
     "name": "stdout",
     "output_type": "stream",
     "text": [
      "GCN loss on unlabled data: 0.8130399584770203\n",
      "GCN acc on unlabled data: 0.7836388019669199\n",
      "attack loss: 0.45162275433540344\n"
     ]
    },
    {
     "name": "stderr",
     "output_type": "stream",
     "text": [
      "Perturbing graph:  68%|████████████████████████████████████████████████████████████████████████████████████████████████████████▊                                                  | 171/253 [07:43<03:46,  2.76s/it]"
     ]
    },
    {
     "name": "stdout",
     "output_type": "stream",
     "text": [
      "GCN loss on unlabled data: 0.8241145610809326\n",
      "GCN acc on unlabled data: 0.7760393383996423\n",
      "attack loss: 0.4759539067745209\n"
     ]
    },
    {
     "name": "stderr",
     "output_type": "stream",
     "text": [
      "Perturbing graph:  68%|█████████████████████████████████████████████████████████████████████████████████████████████████████████▍                                                 | 172/253 [07:46<03:45,  2.78s/it]"
     ]
    },
    {
     "name": "stdout",
     "output_type": "stream",
     "text": [
      "GCN loss on unlabled data: 0.8309157490730286\n",
      "GCN acc on unlabled data: 0.7764863656683058\n",
      "attack loss: 0.4907858073711395\n"
     ]
    },
    {
     "name": "stderr",
     "output_type": "stream",
     "text": [
      "Perturbing graph:  68%|█████████████████████████████████████████████████████████████████████████████████████████████████████████▉                                                 | 173/253 [07:48<03:41,  2.77s/it]"
     ]
    },
    {
     "name": "stdout",
     "output_type": "stream",
     "text": [
      "GCN loss on unlabled data: 0.8126175999641418\n",
      "GCN acc on unlabled data: 0.7809566383549397\n",
      "attack loss: 0.46465978026390076\n"
     ]
    },
    {
     "name": "stderr",
     "output_type": "stream",
     "text": [
      "Perturbing graph:  69%|██████████████████████████████████████████████████████████████████████████████████████████████████████████▌                                                | 174/253 [07:51<03:38,  2.76s/it]"
     ]
    },
    {
     "name": "stdout",
     "output_type": "stream",
     "text": [
      "GCN loss on unlabled data: 0.8365036249160767\n",
      "GCN acc on unlabled data: 0.7688869021010282\n",
      "attack loss: 0.4528696537017822\n"
     ]
    },
    {
     "name": "stderr",
     "output_type": "stream",
     "text": [
      "Perturbing graph:  69%|███████████████████████████████████████████████████████████████████████████████████████████████████████████▏                                               | 175/253 [07:54<03:33,  2.74s/it]"
     ]
    },
    {
     "name": "stdout",
     "output_type": "stream",
     "text": [
      "GCN loss on unlabled data: 0.863507866859436\n",
      "GCN acc on unlabled data: 0.775592311130979\n",
      "attack loss: 0.4650189280509949\n"
     ]
    },
    {
     "name": "stderr",
     "output_type": "stream",
     "text": [
      "Perturbing graph:  70%|███████████████████████████████████████████████████████████████████████████████████████████████████████████▊                                               | 176/253 [07:56<03:28,  2.71s/it]"
     ]
    },
    {
     "name": "stdout",
     "output_type": "stream",
     "text": [
      "GCN loss on unlabled data: 0.8627448678016663\n",
      "GCN acc on unlabled data: 0.7746982565936522\n",
      "attack loss: 0.482383131980896\n"
     ]
    },
    {
     "name": "stderr",
     "output_type": "stream",
     "text": [
      "Perturbing graph:  70%|████████████████████████████████████████████████████████████████████████████████████████████████████████████▍                                              | 177/253 [07:59<03:24,  2.69s/it]"
     ]
    },
    {
     "name": "stdout",
     "output_type": "stream",
     "text": [
      "GCN loss on unlabled data: 0.8542644381523132\n",
      "GCN acc on unlabled data: 0.7702279839070183\n",
      "attack loss: 0.47171881794929504\n"
     ]
    },
    {
     "name": "stderr",
     "output_type": "stream",
     "text": [
      "Perturbing graph:  70%|█████████████████████████████████████████████████████████████████████████████████████████████████████████████                                              | 178/253 [08:02<03:23,  2.71s/it]"
     ]
    },
    {
     "name": "stdout",
     "output_type": "stream",
     "text": [
      "GCN loss on unlabled data: 0.8753255605697632\n",
      "GCN acc on unlabled data: 0.7635225748770675\n",
      "attack loss: 0.48761114478111267\n"
     ]
    },
    {
     "name": "stderr",
     "output_type": "stream",
     "text": [
      "Perturbing graph:  71%|█████████████████████████████████████████████████████████████████████████████████████████████████████████████▋                                             | 179/253 [08:05<03:23,  2.74s/it]"
     ]
    },
    {
     "name": "stdout",
     "output_type": "stream",
     "text": [
      "GCN loss on unlabled data: 0.8240992426872253\n",
      "GCN acc on unlabled data: 0.7738042020563254\n",
      "attack loss: 0.4636690020561218\n"
     ]
    },
    {
     "name": "stderr",
     "output_type": "stream",
     "text": [
      "Perturbing graph:  71%|██████████████████████████████████████████████████████████████████████████████████████████████████████████████▎                                            | 180/253 [08:08<03:25,  2.82s/it]"
     ]
    },
    {
     "name": "stdout",
     "output_type": "stream",
     "text": [
      "GCN loss on unlabled data: 0.8601610660552979\n",
      "GCN acc on unlabled data: 0.753687974966473\n",
      "attack loss: 0.47026127576828003\n"
     ]
    },
    {
     "name": "stderr",
     "output_type": "stream",
     "text": [
      "Perturbing graph:  72%|██████████████████████████████████████████████████████████████████████████████████████████████████████████████▉                                            | 181/253 [08:10<03:20,  2.78s/it]"
     ]
    },
    {
     "name": "stdout",
     "output_type": "stream",
     "text": [
      "GCN loss on unlabled data: 0.849159300327301\n",
      "GCN acc on unlabled data: 0.7635225748770675\n",
      "attack loss: 0.4727114737033844\n"
     ]
    },
    {
     "name": "stderr",
     "output_type": "stream",
     "text": [
      "Perturbing graph:  72%|███████████████████████████████████████████████████████████████████████████████████████████████████████████████▌                                           | 182/253 [08:13<03:14,  2.74s/it]"
     ]
    },
    {
     "name": "stdout",
     "output_type": "stream",
     "text": [
      "GCN loss on unlabled data: 0.8550434708595276\n",
      "GCN acc on unlabled data: 0.7653106839517211\n",
      "attack loss: 0.4818715453147888\n"
     ]
    },
    {
     "name": "stderr",
     "output_type": "stream",
     "text": [
      "Perturbing graph:  72%|████████████████████████████████████████████████████████████████████████████████████████████████████████████████                                           | 183/253 [08:16<03:09,  2.71s/it]"
     ]
    },
    {
     "name": "stdout",
     "output_type": "stream",
     "text": [
      "GCN loss on unlabled data: 0.8790199756622314\n",
      "GCN acc on unlabled data: 0.7523468931604828\n",
      "attack loss: 0.4824550747871399\n"
     ]
    },
    {
     "name": "stderr",
     "output_type": "stream",
     "text": [
      "Perturbing graph:  73%|████████████████████████████████████████████████████████████████████████████████████████████████████████████████▋                                          | 184/253 [08:18<03:06,  2.70s/it]"
     ]
    },
    {
     "name": "stdout",
     "output_type": "stream",
     "text": [
      "GCN loss on unlabled data: 0.8713269233703613\n",
      "GCN acc on unlabled data: 0.7608404112650872\n",
      "attack loss: 0.4875503480434418\n"
     ]
    },
    {
     "name": "stderr",
     "output_type": "stream",
     "text": [
      "Perturbing graph:  73%|█████████████████████████████████████████████████████████████████████████████████████████████████████████████████▎                                         | 185/253 [08:21<03:02,  2.68s/it]"
     ]
    },
    {
     "name": "stdout",
     "output_type": "stream",
     "text": [
      "GCN loss on unlabled data: 0.8930333852767944\n",
      "GCN acc on unlabled data: 0.7670987930263746\n",
      "attack loss: 0.48667967319488525\n"
     ]
    },
    {
     "name": "stderr",
     "output_type": "stream",
     "text": [
      "Perturbing graph:  74%|█████████████████████████████████████████████████████████████████████████████████████████████████████████████████▉                                         | 186/253 [08:24<03:00,  2.70s/it]"
     ]
    },
    {
     "name": "stdout",
     "output_type": "stream",
     "text": [
      "GCN loss on unlabled data: 0.8965513706207275\n",
      "GCN acc on unlabled data: 0.7492177022798391\n",
      "attack loss: 0.493608683347702\n"
     ]
    },
    {
     "name": "stderr",
     "output_type": "stream",
     "text": [
      "Perturbing graph:  74%|██████████████████████████████████████████████████████████████████████████████████████████████████████████████████▌                                        | 187/253 [08:26<02:58,  2.71s/it]"
     ]
    },
    {
     "name": "stdout",
     "output_type": "stream",
     "text": [
      "GCN loss on unlabled data: 0.9075600504875183\n",
      "GCN acc on unlabled data: 0.7621814930710773\n",
      "attack loss: 0.47327715158462524\n"
     ]
    },
    {
     "name": "stderr",
     "output_type": "stream",
     "text": [
      "Perturbing graph:  74%|███████████████████████████████████████████████████████████████████████████████████████████████████████████████████▏                                       | 188/253 [08:29<02:54,  2.68s/it]"
     ]
    },
    {
     "name": "stdout",
     "output_type": "stream",
     "text": [
      "GCN loss on unlabled data: 0.9304636716842651\n",
      "GCN acc on unlabled data: 0.7581582476531068\n",
      "attack loss: 0.5161350965499878\n"
     ]
    },
    {
     "name": "stderr",
     "output_type": "stream",
     "text": [
      "Perturbing graph:  75%|███████████████████████████████████████████████████████████████████████████████████████████████████████████████████▊                                       | 189/253 [08:32<02:50,  2.66s/it]"
     ]
    },
    {
     "name": "stdout",
     "output_type": "stream",
     "text": [
      "GCN loss on unlabled data: 0.9140455722808838\n",
      "GCN acc on unlabled data: 0.7612874385337506\n",
      "attack loss: 0.5089131593704224\n"
     ]
    },
    {
     "name": "stderr",
     "output_type": "stream",
     "text": [
      "Perturbing graph:  75%|████████████████████████████████████████████████████████████████████████████████████████████████████████████████████▍                                      | 190/253 [08:34<02:48,  2.67s/it]"
     ]
    },
    {
     "name": "stdout",
     "output_type": "stream",
     "text": [
      "GCN loss on unlabled data: 0.8557401895523071\n",
      "GCN acc on unlabled data: 0.7679928475637013\n",
      "attack loss: 0.4856026768684387\n"
     ]
    },
    {
     "name": "stderr",
     "output_type": "stream",
     "text": [
      "Perturbing graph:  75%|█████████████████████████████████████████████████████████████████████████████████████████████████████████████████████                                      | 191/253 [08:37<02:47,  2.71s/it]"
     ]
    },
    {
     "name": "stdout",
     "output_type": "stream",
     "text": [
      "GCN loss on unlabled data: 0.817310631275177\n",
      "GCN acc on unlabled data: 0.7738042020563254\n",
      "attack loss: 0.4727063775062561\n"
     ]
    },
    {
     "name": "stderr",
     "output_type": "stream",
     "text": [
      "Perturbing graph:  76%|█████████████████████████████████████████████████████████████████████████████████████████████████████████████████████▋                                     | 192/253 [08:40<02:45,  2.71s/it]"
     ]
    },
    {
     "name": "stdout",
     "output_type": "stream",
     "text": [
      "GCN loss on unlabled data: 0.9185689091682434\n",
      "GCN acc on unlabled data: 0.7465355386678587\n",
      "attack loss: 0.503623902797699\n"
     ]
    },
    {
     "name": "stderr",
     "output_type": "stream",
     "text": [
      "Perturbing graph:  76%|██████████████████████████████████████████████████████████████████████████████████████████████████████████████████████▏                                    | 193/253 [08:43<02:41,  2.69s/it]"
     ]
    },
    {
     "name": "stdout",
     "output_type": "stream",
     "text": [
      "GCN loss on unlabled data: 0.8534483313560486\n",
      "GCN acc on unlabled data: 0.7697809566383549\n",
      "attack loss: 0.4722270667552948\n"
     ]
    },
    {
     "name": "stderr",
     "output_type": "stream",
     "text": [
      "Perturbing graph:  77%|██████████████████████████████████████████████████████████████████████████████████████████████████████████████████████▊                                    | 194/253 [08:45<02:38,  2.68s/it]"
     ]
    },
    {
     "name": "stdout",
     "output_type": "stream",
     "text": [
      "GCN loss on unlabled data: 0.9062002301216125\n",
      "GCN acc on unlabled data: 0.7483236477425123\n",
      "attack loss: 0.5126059055328369\n"
     ]
    },
    {
     "name": "stderr",
     "output_type": "stream",
     "text": [
      "Perturbing graph:  77%|███████████████████████████████████████████████████████████████████████████████████████████████████████████████████████▍                                   | 195/253 [08:48<02:35,  2.69s/it]"
     ]
    },
    {
     "name": "stdout",
     "output_type": "stream",
     "text": [
      "GCN loss on unlabled data: 0.912387490272522\n",
      "GCN acc on unlabled data: 0.7550290567724631\n",
      "attack loss: 0.509915292263031\n"
     ]
    },
    {
     "name": "stderr",
     "output_type": "stream",
     "text": [
      "Perturbing graph:  77%|████████████████████████████████████████████████████████████████████████████████████████████████████████████████████████                                   | 196/253 [08:51<02:36,  2.74s/it]"
     ]
    },
    {
     "name": "stdout",
     "output_type": "stream",
     "text": [
      "GCN loss on unlabled data: 0.8782058954238892\n",
      "GCN acc on unlabled data: 0.753687974966473\n",
      "attack loss: 0.48708590865135193\n"
     ]
    },
    {
     "name": "stderr",
     "output_type": "stream",
     "text": [
      "Perturbing graph:  78%|████████████████████████████████████████████████████████████████████████████████████████████████████████████████████████▋                                  | 197/253 [08:53<02:33,  2.74s/it]"
     ]
    },
    {
     "name": "stdout",
     "output_type": "stream",
     "text": [
      "GCN loss on unlabled data: 0.8801235556602478\n",
      "GCN acc on unlabled data: 0.7621814930710773\n",
      "attack loss: 0.49701574444770813\n"
     ]
    },
    {
     "name": "stderr",
     "output_type": "stream",
     "text": [
      "Perturbing graph:  78%|█████████████████████████████████████████████████████████████████████████████████████████████████████████████████████████▎                                 | 198/253 [08:56<02:31,  2.75s/it]"
     ]
    },
    {
     "name": "stdout",
     "output_type": "stream",
     "text": [
      "GCN loss on unlabled data: 0.8798825144767761\n",
      "GCN acc on unlabled data: 0.7581582476531068\n",
      "attack loss: 0.49541524052619934\n"
     ]
    },
    {
     "name": "stderr",
     "output_type": "stream",
     "text": [
      "Perturbing graph:  79%|█████████████████████████████████████████████████████████████████████████████████████████████████████████████████████████▉                                 | 199/253 [08:59<02:28,  2.75s/it]"
     ]
    },
    {
     "name": "stdout",
     "output_type": "stream",
     "text": [
      "GCN loss on unlabled data: 0.8925578594207764\n",
      "GCN acc on unlabled data: 0.7670987930263746\n",
      "attack loss: 0.5125428438186646\n"
     ]
    },
    {
     "name": "stderr",
     "output_type": "stream",
     "text": [
      "Perturbing graph:  79%|██████████████████████████████████████████████████████████████████████████████████████████████████████████████████████████▌                                | 200/253 [09:02<02:24,  2.73s/it]"
     ]
    },
    {
     "name": "stdout",
     "output_type": "stream",
     "text": [
      "GCN loss on unlabled data: 0.896347165107727\n",
      "GCN acc on unlabled data: 0.7496647295485025\n",
      "attack loss: 0.48295995593070984\n"
     ]
    },
    {
     "name": "stderr",
     "output_type": "stream",
     "text": [
      "Perturbing graph:  79%|███████████████████████████████████████████████████████████████████████████████████████████████████████████████████████████▏                               | 201/253 [09:05<02:23,  2.76s/it]"
     ]
    },
    {
     "name": "stdout",
     "output_type": "stream",
     "text": [
      "GCN loss on unlabled data: 0.9221870303153992\n",
      "GCN acc on unlabled data: 0.7527939204291462\n",
      "attack loss: 0.5165476202964783\n"
     ]
    },
    {
     "name": "stderr",
     "output_type": "stream",
     "text": [
      "Perturbing graph:  80%|███████████████████████████████████████████████████████████████████████████████████████████████████████████████████████████▊                               | 202/253 [09:07<02:19,  2.73s/it]"
     ]
    },
    {
     "name": "stdout",
     "output_type": "stream",
     "text": [
      "GCN loss on unlabled data: 0.8883965015411377\n",
      "GCN acc on unlabled data: 0.7554760840411265\n",
      "attack loss: 0.4889430105686188\n"
     ]
    },
    {
     "name": "stderr",
     "output_type": "stream",
     "text": [
      "Perturbing graph:  80%|████████████████████████████████████████████████████████████████████████████████████████████████████████████████████████████▎                              | 203/253 [09:10<02:16,  2.73s/it]"
     ]
    },
    {
     "name": "stdout",
     "output_type": "stream",
     "text": [
      "GCN loss on unlabled data: 0.8681648373603821\n",
      "GCN acc on unlabled data: 0.7429593205185516\n",
      "attack loss: 0.4946672022342682\n"
     ]
    },
    {
     "name": "stderr",
     "output_type": "stream",
     "text": [
      "Perturbing graph:  81%|████████████████████████████████████████████████████████████████████████████████████████████████████████████████████████████▉                              | 204/253 [09:13<02:12,  2.71s/it]"
     ]
    },
    {
     "name": "stdout",
     "output_type": "stream",
     "text": [
      "GCN loss on unlabled data: 0.9138495922088623\n",
      "GCN acc on unlabled data: 0.7599463567277603\n",
      "attack loss: 0.5073136687278748\n"
     ]
    },
    {
     "name": "stderr",
     "output_type": "stream",
     "text": [
      "Perturbing graph:  81%|█████████████████████████████████████████████████████████████████████████████████████████████████████████████████████████████▌                             | 205/253 [09:15<02:09,  2.71s/it]"
     ]
    },
    {
     "name": "stdout",
     "output_type": "stream",
     "text": [
      "GCN loss on unlabled data: 0.9206879138946533\n",
      "GCN acc on unlabled data: 0.751452838623156\n",
      "attack loss: 0.49882155656814575\n"
     ]
    },
    {
     "name": "stderr",
     "output_type": "stream",
     "text": [
      "Perturbing graph:  81%|██████████████████████████████████████████████████████████████████████████████████████████████████████████████████████████████▏                            | 206/253 [09:18<02:06,  2.70s/it]"
     ]
    },
    {
     "name": "stdout",
     "output_type": "stream",
     "text": [
      "GCN loss on unlabled data: 0.889154314994812\n",
      "GCN acc on unlabled data: 0.759499329459097\n",
      "attack loss: 0.5164878964424133\n"
     ]
    },
    {
     "name": "stderr",
     "output_type": "stream",
     "text": [
      "Perturbing graph:  82%|██████████████████████████████████████████████████████████████████████████████████████████████████████████████████████████████▊                            | 207/253 [09:21<02:05,  2.73s/it]"
     ]
    },
    {
     "name": "stdout",
     "output_type": "stream",
     "text": [
      "GCN loss on unlabled data: 0.8967823386192322\n",
      "GCN acc on unlabled data: 0.7586052749217702\n",
      "attack loss: 0.4972584545612335\n"
     ]
    },
    {
     "name": "stderr",
     "output_type": "stream",
     "text": [
      "Perturbing graph:  82%|███████████████████████████████████████████████████████████████████████████████████████████████████████████████████████████████▍                           | 208/253 [09:24<02:03,  2.74s/it]"
     ]
    },
    {
     "name": "stdout",
     "output_type": "stream",
     "text": [
      "GCN loss on unlabled data: 0.8955072164535522\n",
      "GCN acc on unlabled data: 0.7554760840411265\n",
      "attack loss: 0.522310733795166\n"
     ]
    },
    {
     "name": "stderr",
     "output_type": "stream",
     "text": [
      "Perturbing graph:  83%|████████████████████████████████████████████████████████████████████████████████████████████████████████████████████████████████                           | 209/253 [09:26<01:59,  2.71s/it]"
     ]
    },
    {
     "name": "stdout",
     "output_type": "stream",
     "text": [
      "GCN loss on unlabled data: 0.9413546323776245\n",
      "GCN acc on unlabled data: 0.7358068842199375\n",
      "attack loss: 0.5140589475631714\n"
     ]
    },
    {
     "name": "stderr",
     "output_type": "stream",
     "text": [
      "Perturbing graph:  83%|████████████████████████████████████████████████████████████████████████████████████████████████████████████████████████████████▋                          | 210/253 [09:29<01:56,  2.71s/it]"
     ]
    },
    {
     "name": "stdout",
     "output_type": "stream",
     "text": [
      "GCN loss on unlabled data: 0.8947069644927979\n",
      "GCN acc on unlabled data: 0.7554760840411265\n",
      "attack loss: 0.5054005980491638\n"
     ]
    },
    {
     "name": "stderr",
     "output_type": "stream",
     "text": [
      "Perturbing graph:  83%|█████████████████████████████████████████████████████████████████████████████████████████████████████████████████████████████████▎                         | 211/253 [09:32<01:53,  2.71s/it]"
     ]
    },
    {
     "name": "stdout",
     "output_type": "stream",
     "text": [
      "GCN loss on unlabled data: 0.9133101105690002\n",
      "GCN acc on unlabled data: 0.7510058113544926\n",
      "attack loss: 0.5202261209487915\n"
     ]
    },
    {
     "name": "stderr",
     "output_type": "stream",
     "text": [
      "Perturbing graph:  84%|█████████████████████████████████████████████████████████████████████████████████████████████████████████████████████████████████▉                         | 212/253 [09:34<01:51,  2.72s/it]"
     ]
    },
    {
     "name": "stdout",
     "output_type": "stream",
     "text": [
      "GCN loss on unlabled data: 0.8704133033752441\n",
      "GCN acc on unlabled data: 0.7416182387125615\n",
      "attack loss: 0.5091747641563416\n"
     ]
    },
    {
     "name": "stderr",
     "output_type": "stream",
     "text": [
      "Perturbing graph:  84%|██████████████████████████████████████████████████████████████████████████████████████████████████████████████████████████████████▍                        | 213/253 [09:37<01:48,  2.70s/it]"
     ]
    },
    {
     "name": "stdout",
     "output_type": "stream",
     "text": [
      "GCN loss on unlabled data: 0.938086748123169\n",
      "GCN acc on unlabled data: 0.7460885113991953\n",
      "attack loss: 0.5153472423553467\n"
     ]
    },
    {
     "name": "stderr",
     "output_type": "stream",
     "text": [
      "Perturbing graph:  85%|███████████████████████████████████████████████████████████████████████████████████████████████████████████████████████████████████                        | 214/253 [09:40<01:45,  2.70s/it]"
     ]
    },
    {
     "name": "stdout",
     "output_type": "stream",
     "text": [
      "GCN loss on unlabled data: 0.9873849153518677\n",
      "GCN acc on unlabled data: 0.7384890478319177\n",
      "attack loss: 0.5321074724197388\n"
     ]
    },
    {
     "name": "stderr",
     "output_type": "stream",
     "text": [
      "Perturbing graph:  85%|███████████████████████████████████████████████████████████████████████████████████████████████████████████████████████████████████▋                       | 215/253 [09:42<01:42,  2.70s/it]"
     ]
    },
    {
     "name": "stdout",
     "output_type": "stream",
     "text": [
      "GCN loss on unlabled data: 0.9613974094390869\n",
      "GCN acc on unlabled data: 0.7487706750111757\n",
      "attack loss: 0.5400525331497192\n"
     ]
    },
    {
     "name": "stderr",
     "output_type": "stream",
     "text": [
      "Perturbing graph:  85%|████████████████████████████████████████████████████████████████████████████████████████████████████████████████████████████████████▎                      | 216/253 [09:45<01:39,  2.68s/it]"
     ]
    },
    {
     "name": "stdout",
     "output_type": "stream",
     "text": [
      "GCN loss on unlabled data: 0.9445111155509949\n",
      "GCN acc on unlabled data: 0.7362539114886008\n",
      "attack loss: 0.5182104110717773\n"
     ]
    },
    {
     "name": "stderr",
     "output_type": "stream",
     "text": [
      "Perturbing graph:  86%|████████████████████████████████████████████████████████████████████████████████████████████████████████████████████████████████████▉                      | 217/253 [09:48<01:36,  2.69s/it]"
     ]
    },
    {
     "name": "stdout",
     "output_type": "stream",
     "text": [
      "GCN loss on unlabled data: 0.9564607739448547\n",
      "GCN acc on unlabled data: 0.747876620473849\n",
      "attack loss: 0.5268688201904297\n"
     ]
    },
    {
     "name": "stderr",
     "output_type": "stream",
     "text": [
      "Perturbing graph:  86%|█████████████████████████████████████████████████████████████████████████████████████████████████████████████████████████████████████▌                     | 218/253 [09:50<01:34,  2.69s/it]"
     ]
    },
    {
     "name": "stdout",
     "output_type": "stream",
     "text": [
      "GCN loss on unlabled data: 0.9005142450332642\n",
      "GCN acc on unlabled data: 0.7460885113991953\n",
      "attack loss: 0.5164041519165039\n"
     ]
    },
    {
     "name": "stderr",
     "output_type": "stream",
     "text": [
      "Perturbing graph:  87%|██████████████████████████████████████████████████████████████████████████████████████████████████████████████████████████████████████▏                    | 219/253 [09:53<01:34,  2.77s/it]"
     ]
    },
    {
     "name": "stdout",
     "output_type": "stream",
     "text": [
      "GCN loss on unlabled data: 0.9516057968139648\n",
      "GCN acc on unlabled data: 0.7451944568618686\n",
      "attack loss: 0.5377183556556702\n"
     ]
    },
    {
     "name": "stderr",
     "output_type": "stream",
     "text": [
      "Perturbing graph:  87%|██████████████████████████████████████████████████████████████████████████████████████████████████████████████████████████████████████▊                    | 220/253 [09:56<01:30,  2.74s/it]"
     ]
    },
    {
     "name": "stdout",
     "output_type": "stream",
     "text": [
      "GCN loss on unlabled data: 0.9610680341720581\n",
      "GCN acc on unlabled data: 0.7487706750111757\n",
      "attack loss: 0.5254909992218018\n"
     ]
    },
    {
     "name": "stderr",
     "output_type": "stream",
     "text": [
      "Perturbing graph:  87%|███████████████████████████████████████████████████████████████████████████████████████████████████████████████████████████████████████▍                   | 221/253 [09:59<01:28,  2.75s/it]"
     ]
    },
    {
     "name": "stdout",
     "output_type": "stream",
     "text": [
      "GCN loss on unlabled data: 0.957209050655365\n",
      "GCN acc on unlabled data: 0.7371479660259276\n",
      "attack loss: 0.5306389927864075\n"
     ]
    },
    {
     "name": "stderr",
     "output_type": "stream",
     "text": [
      "Perturbing graph:  88%|████████████████████████████████████████████████████████████████████████████████████████████████████████████████████████████████████████                   | 222/253 [10:01<01:24,  2.73s/it]"
     ]
    },
    {
     "name": "stdout",
     "output_type": "stream",
     "text": [
      "GCN loss on unlabled data: 0.9883987903594971\n",
      "GCN acc on unlabled data: 0.7402771569065713\n",
      "attack loss: 0.5457020401954651\n"
     ]
    },
    {
     "name": "stderr",
     "output_type": "stream",
     "text": [
      "Perturbing graph:  88%|████████████████████████████████████████████████████████████████████████████████████████████████████████████████████████████████████████▌                  | 223/253 [10:04<01:21,  2.71s/it]"
     ]
    },
    {
     "name": "stdout",
     "output_type": "stream",
     "text": [
      "GCN loss on unlabled data: 0.929354727268219\n",
      "GCN acc on unlabled data: 0.7451944568618686\n",
      "attack loss: 0.5150104761123657\n"
     ]
    },
    {
     "name": "stderr",
     "output_type": "stream",
     "text": [
      "Perturbing graph:  89%|█████████████████████████████████████████████████████████████████████████████████████████████████████████████████████████████████████████▏                 | 224/253 [10:07<01:17,  2.69s/it]"
     ]
    },
    {
     "name": "stdout",
     "output_type": "stream",
     "text": [
      "GCN loss on unlabled data: 0.8945152759552002\n",
      "GCN acc on unlabled data: 0.7447474295932052\n",
      "attack loss: 0.5083858966827393\n"
     ]
    },
    {
     "name": "stderr",
     "output_type": "stream",
     "text": [
      "Perturbing graph:  89%|█████████████████████████████████████████████████████████████████████████████████████████████████████████████████████████████████████████▊                 | 225/253 [10:09<01:14,  2.67s/it]"
     ]
    },
    {
     "name": "stdout",
     "output_type": "stream",
     "text": [
      "GCN loss on unlabled data: 0.9067599177360535\n",
      "GCN acc on unlabled data: 0.7438533750558785\n",
      "attack loss: 0.5012783408164978\n"
     ]
    },
    {
     "name": "stderr",
     "output_type": "stream",
     "text": [
      "Perturbing graph:  89%|██████████████████████████████████████████████████████████████████████████████████████████████████████████████████████████████████████████▍                | 226/253 [10:12<01:11,  2.66s/it]"
     ]
    },
    {
     "name": "stdout",
     "output_type": "stream",
     "text": [
      "GCN loss on unlabled data: 0.9671823382377625\n",
      "GCN acc on unlabled data: 0.745641484130532\n",
      "attack loss: 0.5424655079841614\n"
     ]
    },
    {
     "name": "stderr",
     "output_type": "stream",
     "text": [
      "Perturbing graph:  90%|███████████████████████████████████████████████████████████████████████████████████████████████████████████████████████████████████████████                | 227/253 [10:15<01:09,  2.68s/it]"
     ]
    },
    {
     "name": "stdout",
     "output_type": "stream",
     "text": [
      "GCN loss on unlabled data: 0.9674662947654724\n",
      "GCN acc on unlabled data: 0.7344658024139472\n",
      "attack loss: 0.5396243929862976\n"
     ]
    },
    {
     "name": "stderr",
     "output_type": "stream",
     "text": [
      "Perturbing graph:  90%|███████████████████████████████████████████████████████████████████████████████████████████████████████████████████████████████████████████▋               | 228/253 [10:17<01:06,  2.66s/it]"
     ]
    },
    {
     "name": "stdout",
     "output_type": "stream",
     "text": [
      "GCN loss on unlabled data: 0.9798286557197571\n",
      "GCN acc on unlabled data: 0.745641484130532\n",
      "attack loss: 0.5262762308120728\n"
     ]
    },
    {
     "name": "stderr",
     "output_type": "stream",
     "text": [
      "Perturbing graph:  91%|████████████████████████████████████████████████████████████████████████████████████████████████████████████████████████████████████████████▎              | 229/253 [10:20<01:04,  2.67s/it]"
     ]
    },
    {
     "name": "stdout",
     "output_type": "stream",
     "text": [
      "GCN loss on unlabled data: 0.9491018652915955\n",
      "GCN acc on unlabled data: 0.743406347787215\n",
      "attack loss: 0.5344715714454651\n"
     ]
    },
    {
     "name": "stderr",
     "output_type": "stream",
     "text": [
      "Perturbing graph:  91%|████████████████████████████████████████████████████████████████████████████████████████████████████████████████████████████████████████████▉              | 230/253 [10:23<01:02,  2.70s/it]"
     ]
    },
    {
     "name": "stdout",
     "output_type": "stream",
     "text": [
      "GCN loss on unlabled data: 0.9291406273841858\n",
      "GCN acc on unlabled data: 0.7407241841752347\n",
      "attack loss: 0.524904727935791\n"
     ]
    },
    {
     "name": "stderr",
     "output_type": "stream",
     "text": [
      "Perturbing graph:  91%|█████████████████████████████████████████████████████████████████████████████████████████████████████████████████████████████████████████████▌             | 231/253 [10:26<01:00,  2.73s/it]"
     ]
    },
    {
     "name": "stdout",
     "output_type": "stream",
     "text": [
      "GCN loss on unlabled data: 0.911058247089386\n",
      "GCN acc on unlabled data: 0.739830129637908\n",
      "attack loss: 0.5224369764328003\n"
     ]
    },
    {
     "name": "stderr",
     "output_type": "stream",
     "text": [
      "Perturbing graph:  92%|██████████████████████████████████████████████████████████████████████████████████████████████████████████████████████████████████████████████▏            | 232/253 [10:28<00:57,  2.73s/it]"
     ]
    },
    {
     "name": "stdout",
     "output_type": "stream",
     "text": [
      "GCN loss on unlabled data: 0.9542551040649414\n",
      "GCN acc on unlabled data: 0.7443004023245418\n",
      "attack loss: 0.5414897799491882\n"
     ]
    },
    {
     "name": "stderr",
     "output_type": "stream",
     "text": [
      "Perturbing graph:  92%|██████████████████████████████████████████████████████████████████████████████████████████████████████████████████████████████████████████████▋            | 233/253 [10:31<00:54,  2.73s/it]"
     ]
    },
    {
     "name": "stdout",
     "output_type": "stream",
     "text": [
      "GCN loss on unlabled data: 0.9945221543312073\n",
      "GCN acc on unlabled data: 0.7308895842646401\n",
      "attack loss: 0.5350008010864258\n"
     ]
    },
    {
     "name": "stderr",
     "output_type": "stream",
     "text": [
      "Perturbing graph:  92%|███████████████████████████████████████████████████████████████████████████████████████████████████████████████████████████████████████████████▎           | 234/253 [10:34<00:51,  2.73s/it]"
     ]
    },
    {
     "name": "stdout",
     "output_type": "stream",
     "text": [
      "GCN loss on unlabled data: 0.9458219408988953\n",
      "GCN acc on unlabled data: 0.7331247206079571\n",
      "attack loss: 0.5298008918762207\n"
     ]
    },
    {
     "name": "stderr",
     "output_type": "stream",
     "text": [
      "Perturbing graph:  93%|███████████████████████████████████████████████████████████████████████████████████████████████████████████████████████████████████████████████▉           | 235/253 [10:37<00:48,  2.72s/it]"
     ]
    },
    {
     "name": "stdout",
     "output_type": "stream",
     "text": [
      "GCN loss on unlabled data: 0.966029942035675\n",
      "GCN acc on unlabled data: 0.7425122932498882\n",
      "attack loss: 0.5411325097084045\n"
     ]
    },
    {
     "name": "stderr",
     "output_type": "stream",
     "text": [
      "Perturbing graph:  93%|████████████████████████████████████████████████████████████████████████████████████████████████████████████████████████████████████████████████▌          | 236/253 [10:39<00:46,  2.71s/it]"
     ]
    },
    {
     "name": "stdout",
     "output_type": "stream",
     "text": [
      "GCN loss on unlabled data: 0.9567326307296753\n",
      "GCN acc on unlabled data: 0.72954850245865\n",
      "attack loss: 0.5256410837173462\n"
     ]
    },
    {
     "name": "stderr",
     "output_type": "stream",
     "text": [
      "Perturbing graph:  94%|█████████████████████████████████████████████████████████████████████████████████████████████████████████████████████████████████████████████████▏         | 237/253 [10:42<00:43,  2.71s/it]"
     ]
    },
    {
     "name": "stdout",
     "output_type": "stream",
     "text": [
      "GCN loss on unlabled data: 1.0194721221923828\n",
      "GCN acc on unlabled data: 0.715690657130085\n",
      "attack loss: 0.5613688230514526\n"
     ]
    },
    {
     "name": "stderr",
     "output_type": "stream",
     "text": [
      "Perturbing graph:  94%|█████████████████████████████████████████████████████████████████████████████████████████████████████████████████████████████████████████████████▊         | 238/253 [10:45<00:40,  2.70s/it]"
     ]
    },
    {
     "name": "stdout",
     "output_type": "stream",
     "text": [
      "GCN loss on unlabled data: 1.0079824924468994\n",
      "GCN acc on unlabled data: 0.7228430934286991\n",
      "attack loss: 0.565223753452301\n"
     ]
    },
    {
     "name": "stderr",
     "output_type": "stream",
     "text": [
      "Perturbing graph:  94%|██████████████████████████████████████████████████████████████████████████████████████████████████████████████████████████████████████████████████▍        | 239/253 [10:47<00:37,  2.71s/it]"
     ]
    },
    {
     "name": "stdout",
     "output_type": "stream",
     "text": [
      "GCN loss on unlabled data: 0.9895978569984436\n",
      "GCN acc on unlabled data: 0.7358068842199375\n",
      "attack loss: 0.5461351871490479\n"
     ]
    },
    {
     "name": "stderr",
     "output_type": "stream",
     "text": [
      "Perturbing graph:  95%|███████████████████████████████████████████████████████████████████████████████████████████████████████████████████████████████████████████████████        | 240/253 [10:50<00:35,  2.72s/it]"
     ]
    },
    {
     "name": "stdout",
     "output_type": "stream",
     "text": [
      "GCN loss on unlabled data: 1.0091772079467773\n",
      "GCN acc on unlabled data: 0.7371479660259276\n",
      "attack loss: 0.5473028421401978\n"
     ]
    },
    {
     "name": "stderr",
     "output_type": "stream",
     "text": [
      "Perturbing graph:  95%|███████████████████████████████████████████████████████████████████████████████████████████████████████████████████████████████████████████████████▋       | 241/253 [10:53<00:32,  2.71s/it]"
     ]
    },
    {
     "name": "stdout",
     "output_type": "stream",
     "text": [
      "GCN loss on unlabled data: 0.9443800449371338\n",
      "GCN acc on unlabled data: 0.737594993294591\n",
      "attack loss: 0.5377315282821655\n"
     ]
    },
    {
     "name": "stderr",
     "output_type": "stream",
     "text": [
      "Perturbing graph:  96%|████████████████████████████████████████████████████████████████████████████████████████████████████████████████████████████████████████████████████▎      | 242/253 [10:56<00:29,  2.71s/it]"
     ]
    },
    {
     "name": "stdout",
     "output_type": "stream",
     "text": [
      "GCN loss on unlabled data: 0.9462550282478333\n",
      "GCN acc on unlabled data: 0.7474295932051855\n",
      "attack loss: 0.5428895950317383\n"
     ]
    },
    {
     "name": "stderr",
     "output_type": "stream",
     "text": [
      "Perturbing graph:  96%|████████████████████████████████████████████████████████████████████████████████████████████████████████████████████████████████████████████████████▊      | 243/253 [10:58<00:27,  2.73s/it]"
     ]
    },
    {
     "name": "stdout",
     "output_type": "stream",
     "text": [
      "GCN loss on unlabled data: 0.9884695410728455\n",
      "GCN acc on unlabled data: 0.7384890478319177\n",
      "attack loss: 0.5538877844810486\n"
     ]
    },
    {
     "name": "stderr",
     "output_type": "stream",
     "text": [
      "Perturbing graph:  96%|█████████████████████████████████████████████████████████████████████████████████████████████████████████████████████████████████████████████████████▍     | 244/253 [11:01<00:24,  2.72s/it]"
     ]
    },
    {
     "name": "stdout",
     "output_type": "stream",
     "text": [
      "GCN loss on unlabled data: 0.957291305065155\n",
      "GCN acc on unlabled data: 0.7402771569065713\n",
      "attack loss: 0.5427404642105103\n"
     ]
    },
    {
     "name": "stderr",
     "output_type": "stream",
     "text": [
      "Perturbing graph:  97%|██████████████████████████████████████████████████████████████████████████████████████████████████████████████████████████████████████████████████████     | 245/253 [11:04<00:21,  2.71s/it]"
     ]
    },
    {
     "name": "stdout",
     "output_type": "stream",
     "text": [
      "GCN loss on unlabled data: 0.957035481929779\n",
      "GCN acc on unlabled data: 0.7313366115333035\n",
      "attack loss: 0.5289022326469421\n"
     ]
    },
    {
     "name": "stderr",
     "output_type": "stream",
     "text": [
      "Perturbing graph:  97%|██████████████████████████████████████████████████████████████████████████████████████████████████████████████████████████████████████████████████████▋    | 246/253 [11:07<00:19,  2.76s/it]"
     ]
    },
    {
     "name": "stdout",
     "output_type": "stream",
     "text": [
      "GCN loss on unlabled data: 1.0040825605392456\n",
      "GCN acc on unlabled data: 0.7371479660259276\n",
      "attack loss: 0.5527067184448242\n"
     ]
    },
    {
     "name": "stderr",
     "output_type": "stream",
     "text": [
      "Perturbing graph:  98%|███████████████████████████████████████████████████████████████████████████████████████████████████████████████████████████████████████████████████████▎   | 247/253 [11:09<00:16,  2.76s/it]"
     ]
    },
    {
     "name": "stdout",
     "output_type": "stream",
     "text": [
      "GCN loss on unlabled data: 0.996321439743042\n",
      "GCN acc on unlabled data: 0.72954850245865\n",
      "attack loss: 0.5573676228523254\n"
     ]
    },
    {
     "name": "stderr",
     "output_type": "stream",
     "text": [
      "Perturbing graph:  98%|███████████████████████████████████████████████████████████████████████████████████████████████████████████████████████████████████████████████████████▉   | 248/253 [11:12<00:13,  2.73s/it]"
     ]
    },
    {
     "name": "stdout",
     "output_type": "stream",
     "text": [
      "GCN loss on unlabled data: 0.9586610198020935\n",
      "GCN acc on unlabled data: 0.72954850245865\n",
      "attack loss: 0.5420527458190918\n"
     ]
    },
    {
     "name": "stderr",
     "output_type": "stream",
     "text": [
      "Perturbing graph:  98%|████████████████████████████████████████████████████████████████████████████████████████████████████████████████████████████████████████████████████████▌  | 249/253 [11:15<00:10,  2.72s/it]"
     ]
    },
    {
     "name": "stdout",
     "output_type": "stream",
     "text": [
      "GCN loss on unlabled data: 1.0219016075134277\n",
      "GCN acc on unlabled data: 0.7228430934286991\n",
      "attack loss: 0.5588887333869934\n"
     ]
    },
    {
     "name": "stderr",
     "output_type": "stream",
     "text": [
      "Perturbing graph:  99%|█████████████████████████████████████████████████████████████████████████████████████████████████████████████████████████████████████████████████████████▏ | 250/253 [11:17<00:08,  2.69s/it]"
     ]
    },
    {
     "name": "stdout",
     "output_type": "stream",
     "text": [
      "GCN loss on unlabled data: 1.007990837097168\n",
      "GCN acc on unlabled data: 0.7313366115333035\n",
      "attack loss: 0.5814699530601501\n"
     ]
    },
    {
     "name": "stderr",
     "output_type": "stream",
     "text": [
      "Perturbing graph:  99%|█████████████████████████████████████████████████████████████████████████████████████████████████████████████████████████████████████████████████████████▊ | 251/253 [11:20<00:05,  2.68s/it]"
     ]
    },
    {
     "name": "stdout",
     "output_type": "stream",
     "text": [
      "GCN loss on unlabled data: 0.9639208912849426\n",
      "GCN acc on unlabled data: 0.7326776933392937\n",
      "attack loss: 0.5543512105941772\n"
     ]
    },
    {
     "name": "stderr",
     "output_type": "stream",
     "text": [
      "Perturbing graph: 100%|██████████████████████████████████████████████████████████████████████████████████████████████████████████████████████████████████████████████████████████▍| 252/253 [11:23<00:02,  2.68s/it]"
     ]
    },
    {
     "name": "stdout",
     "output_type": "stream",
     "text": [
      "GCN loss on unlabled data: 1.0616596937179565\n",
      "GCN acc on unlabled data: 0.7071971390254805\n",
      "attack loss: 0.5787012577056885\n"
     ]
    },
    {
     "name": "stderr",
     "output_type": "stream",
     "text": [
      "Perturbing graph: 100%|███████████████████████████████████████████████████████████████████████████████████████████████████████████████████████████████████████████████████████████| 253/253 [11:25<00:00,  2.71s/it]\n"
     ]
    }
   ],
   "source": [
    "model = Metattack(model=surrogate, nnodes=adj.shape[0], feature_shape=features.shape, device=device)\n",
    "model = model.to(device)\n",
    "perturbations = int(0.05 * (adj.sum() // 2))\n",
    "model.attack(features, adj, labels, idx_train, idx_unlabeled, perturbations, ll_constraint=False)\n",
    "modified_adj = model.modified_adj"
   ]
  },
  {
   "cell_type": "code",
   "execution_count": 45,
   "id": "1ab460ef-69e5-401f-851b-5d2d74e275b4",
   "metadata": {},
   "outputs": [
    {
     "name": "stdout",
     "output_type": "stream",
     "text": [
      "Test Accuracy on Clean Graph: 0.8300\n"
     ]
    }
   ],
   "source": [
    "# ----------- 1. Train GCN on CLEAN graph -----------\n",
    "clean_model = GCN(nfeat=features.shape[1], \n",
    "                  nclass=labels.max().item() + 1, \n",
    "                  nhid=16, \n",
    "                  device=device)\n",
    "clean_model = clean_model.to(device)\n",
    "\n",
    "clean_model.fit(features, adj, labels, idx_train)\n",
    "clean_model.eval()\n",
    "output_clean = clean_model.predict()\n",
    "acc_clean = accuracy(output_clean[idx_test], labels[idx_test])\n",
    "print(f\"Test Accuracy on Clean Graph: {acc_clean:.4f}\")"
   ]
  },
  {
   "cell_type": "code",
   "execution_count": 46,
   "id": "6f7c15b8-5e75-447f-9958-96879a1a404f",
   "metadata": {},
   "outputs": [
    {
     "name": "stdout",
     "output_type": "stream",
     "text": [
      "Test Accuracy on Poisoned Graph: 0.8159\n"
     ]
    }
   ],
   "source": [
    "modified_adj = csr_matrix(model.modified_adj.numpy().astype(np.float32))\n",
    "# ----------- 2. Train GCN on POISONED graph -----------\n",
    "poisoned_model = GCN(nfeat=features.shape[1], \n",
    "                     nclass=labels.max().item() + 1, \n",
    "                     nhid=16, \n",
    "                     device=device)\n",
    "poisoned_model = poisoned_model.to(device)\n",
    "\n",
    "poisoned_model.fit(features, modified_adj, labels, idx_train)\n",
    "poisoned_model.eval()\n",
    "output_poisoned = poisoned_model.predict()\n",
    "acc_poisoned = accuracy(output_poisoned[idx_test], labels[idx_test])\n",
    "print(f\"Test Accuracy on Poisoned Graph: {acc_poisoned:.4f}\")"
   ]
  },
  {
   "cell_type": "code",
   "execution_count": null,
   "id": "d0dcbe96-8608-46ce-913a-148497f36fa4",
   "metadata": {},
   "outputs": [],
   "source": []
  }
 ],
 "metadata": {
  "kernelspec": {
   "display_name": "Python 3 (ipykernel)",
   "language": "python",
   "name": "python3"
  },
  "language_info": {
   "codemirror_mode": {
    "name": "ipython",
    "version": 3
   },
   "file_extension": ".py",
   "mimetype": "text/x-python",
   "name": "python",
   "nbconvert_exporter": "python",
   "pygments_lexer": "ipython3",
   "version": "3.10.16"
  }
 },
 "nbformat": 4,
 "nbformat_minor": 5
}
